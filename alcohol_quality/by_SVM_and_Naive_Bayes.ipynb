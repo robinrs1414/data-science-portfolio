{
 "cells": [
  {
   "cell_type": "code",
   "execution_count": 5,
   "source": [
    "from sklearn.svm import SVC\r\n",
    "from sklearn.metrics import accuracy_score\r\n",
    "from sklearn.model_selection import StratifiedKFold\r\n",
    "from sklearn.naive_bayes import GaussianNB\r\n",
    "import pandas as pd\r\n",
    "import numpy as np"
   ],
   "outputs": [],
   "metadata": {}
  },
  {
   "cell_type": "code",
   "execution_count": 6,
   "source": [
    "data = pd.read_csv('alcohol-quality-data.csv')"
   ],
   "outputs": [],
   "metadata": {}
  },
  {
   "cell_type": "code",
   "execution_count": 7,
   "source": [
    "dataset = data.copy()"
   ],
   "outputs": [],
   "metadata": {}
  },
  {
   "cell_type": "code",
   "execution_count": 8,
   "source": [
    "y = pd.DataFrame(dataset['Quality_Category'].replace({\"Low\":0, \"High\":1}))\r\n",
    "x = dataset.drop(columns=['Quality_Category'])"
   ],
   "outputs": [],
   "metadata": {}
  },
  {
   "cell_type": "markdown",
   "source": [
    "SVC"
   ],
   "metadata": {}
  },
  {
   "cell_type": "code",
   "execution_count": 9,
   "source": [
    "clf = SVC()"
   ],
   "outputs": [],
   "metadata": {}
  },
  {
   "cell_type": "code",
   "execution_count": 10,
   "source": [
    "accuracy = []\r\n",
    "skf = StratifiedKFold(n_splits=10)\r\n",
    "skf.get_n_splits(x,y)\r\n",
    "for train_index, test_index in skf.split(x,y):\r\n",
    "    x1_train, x1_test = x.iloc[train_index], x.iloc[test_index]\r\n",
    "    y1_train, y1_test = y.iloc[train_index], y.iloc[test_index]\r\n",
    "\r\n",
    "    clf.fit(x1_train, y1_train)\r\n",
    "    prediction = clf.predict(x1_test)\r\n",
    "    score = accuracy_score(y1_test, prediction)\r\n",
    "    accuracy.append(score)\r\n",
    "\r\n",
    "print(accuracy)\r\n",
    "np.array(accuracy).mean()"
   ],
   "outputs": [
    {
     "output_type": "stream",
     "name": "stderr",
     "text": [
      "c:\\Users\\RobinSingh\\MLDLProjects\\MLDLEnvir\\lib\\site-packages\\sklearn\\utils\\validation.py:63: DataConversionWarning: A column-vector y was passed when a 1d array was expected. Please change the shape of y to (n_samples, ), for example using ravel().\n",
      "  return f(*args, **kwargs)\n",
      "c:\\Users\\RobinSingh\\MLDLProjects\\MLDLEnvir\\lib\\site-packages\\sklearn\\utils\\validation.py:63: DataConversionWarning: A column-vector y was passed when a 1d array was expected. Please change the shape of y to (n_samples, ), for example using ravel().\n",
      "  return f(*args, **kwargs)\n",
      "c:\\Users\\RobinSingh\\MLDLProjects\\MLDLEnvir\\lib\\site-packages\\sklearn\\utils\\validation.py:63: DataConversionWarning: A column-vector y was passed when a 1d array was expected. Please change the shape of y to (n_samples, ), for example using ravel().\n",
      "  return f(*args, **kwargs)\n",
      "c:\\Users\\RobinSingh\\MLDLProjects\\MLDLEnvir\\lib\\site-packages\\sklearn\\utils\\validation.py:63: DataConversionWarning: A column-vector y was passed when a 1d array was expected. Please change the shape of y to (n_samples, ), for example using ravel().\n",
      "  return f(*args, **kwargs)\n",
      "c:\\Users\\RobinSingh\\MLDLProjects\\MLDLEnvir\\lib\\site-packages\\sklearn\\utils\\validation.py:63: DataConversionWarning: A column-vector y was passed when a 1d array was expected. Please change the shape of y to (n_samples, ), for example using ravel().\n",
      "  return f(*args, **kwargs)\n",
      "c:\\Users\\RobinSingh\\MLDLProjects\\MLDLEnvir\\lib\\site-packages\\sklearn\\utils\\validation.py:63: DataConversionWarning: A column-vector y was passed when a 1d array was expected. Please change the shape of y to (n_samples, ), for example using ravel().\n",
      "  return f(*args, **kwargs)\n",
      "c:\\Users\\RobinSingh\\MLDLProjects\\MLDLEnvir\\lib\\site-packages\\sklearn\\utils\\validation.py:63: DataConversionWarning: A column-vector y was passed when a 1d array was expected. Please change the shape of y to (n_samples, ), for example using ravel().\n",
      "  return f(*args, **kwargs)\n",
      "c:\\Users\\RobinSingh\\MLDLProjects\\MLDLEnvir\\lib\\site-packages\\sklearn\\utils\\validation.py:63: DataConversionWarning: A column-vector y was passed when a 1d array was expected. Please change the shape of y to (n_samples, ), for example using ravel().\n",
      "  return f(*args, **kwargs)\n",
      "c:\\Users\\RobinSingh\\MLDLProjects\\MLDLEnvir\\lib\\site-packages\\sklearn\\utils\\validation.py:63: DataConversionWarning: A column-vector y was passed when a 1d array was expected. Please change the shape of y to (n_samples, ), for example using ravel().\n",
      "  return f(*args, **kwargs)\n",
      "c:\\Users\\RobinSingh\\MLDLProjects\\MLDLEnvir\\lib\\site-packages\\sklearn\\utils\\validation.py:63: DataConversionWarning: A column-vector y was passed when a 1d array was expected. Please change the shape of y to (n_samples, ), for example using ravel().\n",
      "  return f(*args, **kwargs)\n"
     ]
    },
    {
     "output_type": "stream",
     "name": "stdout",
     "text": [
      "[0.7836734693877551, 0.7836734693877551, 0.7836734693877551, 0.7836734693877551, 0.7836734693877551, 0.7836734693877551, 0.7816326530612245, 0.7836734693877551, 0.7832310838445807, 0.7770961145194274]\n"
     ]
    },
    {
     "output_type": "execute_result",
     "data": {
      "text/plain": [
       "0.7827674137139519"
      ]
     },
     "metadata": {},
     "execution_count": 10
    }
   ],
   "metadata": {}
  },
  {
   "cell_type": "markdown",
   "source": [
    "Naive Bayes"
   ],
   "metadata": {}
  },
  {
   "cell_type": "code",
   "execution_count": 11,
   "source": [
    "gnb = GaussianNB()"
   ],
   "outputs": [],
   "metadata": {}
  },
  {
   "cell_type": "code",
   "execution_count": 12,
   "source": [
    "accuracy = []\r\n",
    "skf = StratifiedKFold(n_splits=10)\r\n",
    "skf.get_n_splits(x,y)\r\n",
    "for train_index, test_index in skf.split(x,y):\r\n",
    "    x1_train, x1_test = x.iloc[train_index], x.iloc[test_index]\r\n",
    "    y1_train, y1_test = y.iloc[train_index], y.iloc[test_index]\r\n",
    "\r\n",
    "    gnb.fit(x1_train, y1_train)\r\n",
    "    prediction = gnb.predict(x1_test)\r\n",
    "    score = accuracy_score(y1_test, prediction)\r\n",
    "    accuracy.append(score)\r\n",
    "\r\n",
    "print(accuracy)\r\n",
    "np.array(accuracy).mean()"
   ],
   "outputs": [
    {
     "output_type": "stream",
     "name": "stdout",
     "text": [
      "[0.8367346938775511, 0.7795918367346939, 0.7775510204081633, 0.7693877551020408, 0.7877551020408163, 0.8122448979591836, 0.7142857142857143, 0.7836734693877551, 0.7382413087934561, 0.7014314928425358]\n"
     ]
    },
    {
     "output_type": "stream",
     "name": "stderr",
     "text": [
      "c:\\Users\\RobinSingh\\MLDLProjects\\MLDLEnvir\\lib\\site-packages\\sklearn\\utils\\validation.py:63: DataConversionWarning: A column-vector y was passed when a 1d array was expected. Please change the shape of y to (n_samples, ), for example using ravel().\n",
      "  return f(*args, **kwargs)\n",
      "c:\\Users\\RobinSingh\\MLDLProjects\\MLDLEnvir\\lib\\site-packages\\sklearn\\utils\\validation.py:63: DataConversionWarning: A column-vector y was passed when a 1d array was expected. Please change the shape of y to (n_samples, ), for example using ravel().\n",
      "  return f(*args, **kwargs)\n",
      "c:\\Users\\RobinSingh\\MLDLProjects\\MLDLEnvir\\lib\\site-packages\\sklearn\\utils\\validation.py:63: DataConversionWarning: A column-vector y was passed when a 1d array was expected. Please change the shape of y to (n_samples, ), for example using ravel().\n",
      "  return f(*args, **kwargs)\n",
      "c:\\Users\\RobinSingh\\MLDLProjects\\MLDLEnvir\\lib\\site-packages\\sklearn\\utils\\validation.py:63: DataConversionWarning: A column-vector y was passed when a 1d array was expected. Please change the shape of y to (n_samples, ), for example using ravel().\n",
      "  return f(*args, **kwargs)\n",
      "c:\\Users\\RobinSingh\\MLDLProjects\\MLDLEnvir\\lib\\site-packages\\sklearn\\utils\\validation.py:63: DataConversionWarning: A column-vector y was passed when a 1d array was expected. Please change the shape of y to (n_samples, ), for example using ravel().\n",
      "  return f(*args, **kwargs)\n",
      "c:\\Users\\RobinSingh\\MLDLProjects\\MLDLEnvir\\lib\\site-packages\\sklearn\\utils\\validation.py:63: DataConversionWarning: A column-vector y was passed when a 1d array was expected. Please change the shape of y to (n_samples, ), for example using ravel().\n",
      "  return f(*args, **kwargs)\n",
      "c:\\Users\\RobinSingh\\MLDLProjects\\MLDLEnvir\\lib\\site-packages\\sklearn\\utils\\validation.py:63: DataConversionWarning: A column-vector y was passed when a 1d array was expected. Please change the shape of y to (n_samples, ), for example using ravel().\n",
      "  return f(*args, **kwargs)\n",
      "c:\\Users\\RobinSingh\\MLDLProjects\\MLDLEnvir\\lib\\site-packages\\sklearn\\utils\\validation.py:63: DataConversionWarning: A column-vector y was passed when a 1d array was expected. Please change the shape of y to (n_samples, ), for example using ravel().\n",
      "  return f(*args, **kwargs)\n",
      "c:\\Users\\RobinSingh\\MLDLProjects\\MLDLEnvir\\lib\\site-packages\\sklearn\\utils\\validation.py:63: DataConversionWarning: A column-vector y was passed when a 1d array was expected. Please change the shape of y to (n_samples, ), for example using ravel().\n",
      "  return f(*args, **kwargs)\n",
      "c:\\Users\\RobinSingh\\MLDLProjects\\MLDLEnvir\\lib\\site-packages\\sklearn\\utils\\validation.py:63: DataConversionWarning: A column-vector y was passed when a 1d array was expected. Please change the shape of y to (n_samples, ), for example using ravel().\n",
      "  return f(*args, **kwargs)\n"
     ]
    },
    {
     "output_type": "execute_result",
     "data": {
      "text/plain": [
       "0.7700897291431911"
      ]
     },
     "metadata": {},
     "execution_count": 12
    }
   ],
   "metadata": {}
  },
  {
   "cell_type": "code",
   "execution_count": null,
   "source": [],
   "outputs": [],
   "metadata": {}
  }
 ],
 "metadata": {
  "orig_nbformat": 4,
  "language_info": {
   "name": "python",
   "version": "3.9.6",
   "mimetype": "text/x-python",
   "codemirror_mode": {
    "name": "ipython",
    "version": 3
   },
   "pygments_lexer": "ipython3",
   "nbconvert_exporter": "python",
   "file_extension": ".py"
  },
  "kernelspec": {
   "name": "python3",
   "display_name": "Python 3.9.6 64-bit ('MLDLEnvir': venv)"
  },
  "interpreter": {
   "hash": "7330832b67ea0bf110736c34d752c7bd104a3cbbcb0d5a26a7ebb8efd51a5e54"
  }
 },
 "nbformat": 4,
 "nbformat_minor": 2
}