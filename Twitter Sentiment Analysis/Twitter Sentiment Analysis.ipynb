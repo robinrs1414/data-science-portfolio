{
 "cells": [
  {
   "cell_type": "raw",
   "metadata": {},
   "source": [
    "We will collect text data using Twitter API."
   ]
  },
  {
   "cell_type": "code",
   "execution_count": 2,
   "metadata": {},
   "outputs": [],
   "source": [
    "import tweepy"
   ]
  },
  {
   "cell_type": "code",
   "execution_count": 3,
   "metadata": {},
   "outputs": [],
   "source": [
    "import json"
   ]
  },
  {
   "cell_type": "code",
   "execution_count": 4,
   "metadata": {},
   "outputs": [],
   "source": [
    "import numpy as np"
   ]
  },
  {
   "cell_type": "code",
   "execution_count": 5,
   "metadata": {},
   "outputs": [],
   "source": [
    "import pandas as pd"
   ]
  },
  {
   "cell_type": "code",
   "execution_count": 6,
   "metadata": {},
   "outputs": [],
   "source": [
    "from tweepy import OAuthHandler"
   ]
  },
  {
   "cell_type": "code",
   "execution_count": 7,
   "metadata": {},
   "outputs": [],
   "source": [
    "consumer_key = \"RjfFeSl4CRmWp0TPgRIrUFxPC\"\n",
    "consumer_secret = \"RZqjVp0vtrem5wQjrIb8VGLcCn1st74mUwDV78A5g4BBdxZ40k\"\n",
    "access_token = \"963845812060020736-mId7O6REONsYCGUdBTY4KwUO78Ge7yn\"\n",
    "access_token_secret = \"oO7jXFrfvUFwgAEKh4QYxbYHtsPwZL8HG8dv8BxmQhzBJ\""
   ]
  },
  {
   "cell_type": "code",
   "execution_count": 8,
   "metadata": {},
   "outputs": [],
   "source": [
    "auth = tweepy.OAuthHandler(consumer_key, consumer_secret)\n",
    "auth.set_access_token(access_token, access_token_secret)\n",
    "api = tweepy.API(auth)"
   ]
  },
  {
   "cell_type": "code",
   "execution_count": 9,
   "metadata": {},
   "outputs": [],
   "source": [
    "query = \"who win Bihar election 2020\""
   ]
  },
  {
   "cell_type": "code",
   "execution_count": 11,
   "metadata": {},
   "outputs": [
    {
     "name": "stdout",
     "output_type": "stream",
     "text": [
      "Status(_api=<tweepy.api.API object at 0x0000024BD7912C40>, _json={'created_at': 'Thu Oct 29 02:46:00 +0000 2020', 'id': 1321644424477069312, 'id_str': '1321644424477069312', 'full_text': 'Who Will Win 2020 BIHAR Assembly Election ?', 'truncated': False, 'display_text_range': [0, 43], 'entities': {'hashtags': [], 'symbols': [], 'user_mentions': [], 'urls': []}, 'metadata': {'iso_language_code': 'en', 'result_type': 'recent'}, 'source': '<a href=\"http://twitter.com/download/android\" rel=\"nofollow\">Twitter for Android</a>', 'in_reply_to_status_id': None, 'in_reply_to_status_id_str': None, 'in_reply_to_user_id': None, 'in_reply_to_user_id_str': None, 'in_reply_to_screen_name': None, 'user': {'id': 949911817433726977, 'id_str': '949911817433726977', 'name': 'MANISH KUMAR SHAH', 'screen_name': 'MANISHK46106868', 'location': 'Kolkata, India', 'description': '', 'url': None, 'entities': {'description': {'urls': []}}, 'protected': False, 'followers_count': 694, 'friends_count': 776, 'listed_count': 1, 'created_at': 'Sun Jan 07 07:53:20 +0000 2018', 'favourites_count': 5732, 'utc_offset': None, 'time_zone': None, 'geo_enabled': True, 'verified': False, 'statuses_count': 73, 'lang': None, 'contributors_enabled': False, 'is_translator': False, 'is_translation_enabled': False, 'profile_background_color': 'F5F8FA', 'profile_background_image_url': None, 'profile_background_image_url_https': None, 'profile_background_tile': False, 'profile_image_url': 'http://pbs.twimg.com/profile_images/956766633279635456/WxF6sZBK_normal.jpg', 'profile_image_url_https': 'https://pbs.twimg.com/profile_images/956766633279635456/WxF6sZBK_normal.jpg', 'profile_banner_url': 'https://pbs.twimg.com/profile_banners/949911817433726977/1516946513', 'profile_link_color': '1DA1F2', 'profile_sidebar_border_color': 'C0DEED', 'profile_sidebar_fill_color': 'DDEEF6', 'profile_text_color': '333333', 'profile_use_background_image': True, 'has_extended_profile': True, 'default_profile': True, 'default_profile_image': False, 'following': False, 'follow_request_sent': False, 'notifications': False, 'translator_type': 'none'}, 'geo': None, 'coordinates': None, 'place': None, 'contributors': None, 'is_quote_status': False, 'retweet_count': 0, 'favorite_count': 0, 'favorited': False, 'retweeted': False, 'lang': 'en'}, created_at=datetime.datetime(2020, 10, 29, 2, 46), id=1321644424477069312, id_str='1321644424477069312', full_text='Who Will Win 2020 BIHAR Assembly Election ?', truncated=False, display_text_range=[0, 43], entities={'hashtags': [], 'symbols': [], 'user_mentions': [], 'urls': []}, metadata={'iso_language_code': 'en', 'result_type': 'recent'}, source='Twitter for Android', source_url='http://twitter.com/download/android', in_reply_to_status_id=None, in_reply_to_status_id_str=None, in_reply_to_user_id=None, in_reply_to_user_id_str=None, in_reply_to_screen_name=None, author=User(_api=<tweepy.api.API object at 0x0000024BD7912C40>, _json={'id': 949911817433726977, 'id_str': '949911817433726977', 'name': 'MANISH KUMAR SHAH', 'screen_name': 'MANISHK46106868', 'location': 'Kolkata, India', 'description': '', 'url': None, 'entities': {'description': {'urls': []}}, 'protected': False, 'followers_count': 694, 'friends_count': 776, 'listed_count': 1, 'created_at': 'Sun Jan 07 07:53:20 +0000 2018', 'favourites_count': 5732, 'utc_offset': None, 'time_zone': None, 'geo_enabled': True, 'verified': False, 'statuses_count': 73, 'lang': None, 'contributors_enabled': False, 'is_translator': False, 'is_translation_enabled': False, 'profile_background_color': 'F5F8FA', 'profile_background_image_url': None, 'profile_background_image_url_https': None, 'profile_background_tile': False, 'profile_image_url': 'http://pbs.twimg.com/profile_images/956766633279635456/WxF6sZBK_normal.jpg', 'profile_image_url_https': 'https://pbs.twimg.com/profile_images/956766633279635456/WxF6sZBK_normal.jpg', 'profile_banner_url': 'https://pbs.twimg.com/profile_banners/949911817433726977/1516946513', 'profile_link_color': '1DA1F2', 'profile_sidebar_border_color': 'C0DEED', 'profile_sidebar_fill_color': 'DDEEF6', 'profile_text_color': '333333', 'profile_use_background_image': True, 'has_extended_profile': True, 'default_profile': True, 'default_profile_image': False, 'following': False, 'follow_request_sent': False, 'notifications': False, 'translator_type': 'none'}, id=949911817433726977, id_str='949911817433726977', name='MANISH KUMAR SHAH', screen_name='MANISHK46106868', location='Kolkata, India', description='', url=None, entities={'description': {'urls': []}}, protected=False, followers_count=694, friends_count=776, listed_count=1, created_at=datetime.datetime(2018, 1, 7, 7, 53, 20), favourites_count=5732, utc_offset=None, time_zone=None, geo_enabled=True, verified=False, statuses_count=73, lang=None, contributors_enabled=False, is_translator=False, is_translation_enabled=False, profile_background_color='F5F8FA', profile_background_image_url=None, profile_background_image_url_https=None, profile_background_tile=False, profile_image_url='http://pbs.twimg.com/profile_images/956766633279635456/WxF6sZBK_normal.jpg', profile_image_url_https='https://pbs.twimg.com/profile_images/956766633279635456/WxF6sZBK_normal.jpg', profile_banner_url='https://pbs.twimg.com/profile_banners/949911817433726977/1516946513', profile_link_color='1DA1F2', profile_sidebar_border_color='C0DEED', profile_sidebar_fill_color='DDEEF6', profile_text_color='333333', profile_use_background_image=True, has_extended_profile=True, default_profile=True, default_profile_image=False, following=False, follow_request_sent=False, notifications=False, translator_type='none'), user=User(_api=<tweepy.api.API object at 0x0000024BD7912C40>, _json={'id': 949911817433726977, 'id_str': '949911817433726977', 'name': 'MANISH KUMAR SHAH', 'screen_name': 'MANISHK46106868', 'location': 'Kolkata, India', 'description': '', 'url': None, 'entities': {'description': {'urls': []}}, 'protected': False, 'followers_count': 694, 'friends_count': 776, 'listed_count': 1, 'created_at': 'Sun Jan 07 07:53:20 +0000 2018', 'favourites_count': 5732, 'utc_offset': None, 'time_zone': None, 'geo_enabled': True, 'verified': False, 'statuses_count': 73, 'lang': None, 'contributors_enabled': False, 'is_translator': False, 'is_translation_enabled': False, 'profile_background_color': 'F5F8FA', 'profile_background_image_url': None, 'profile_background_image_url_https': None, 'profile_background_tile': False, 'profile_image_url': 'http://pbs.twimg.com/profile_images/956766633279635456/WxF6sZBK_normal.jpg', 'profile_image_url_https': 'https://pbs.twimg.com/profile_images/956766633279635456/WxF6sZBK_normal.jpg', 'profile_banner_url': 'https://pbs.twimg.com/profile_banners/949911817433726977/1516946513', 'profile_link_color': '1DA1F2', 'profile_sidebar_border_color': 'C0DEED', 'profile_sidebar_fill_color': 'DDEEF6', 'profile_text_color': '333333', 'profile_use_background_image': True, 'has_extended_profile': True, 'default_profile': True, 'default_profile_image': False, 'following': False, 'follow_request_sent': False, 'notifications': False, 'translator_type': 'none'}, id=949911817433726977, id_str='949911817433726977', name='MANISH KUMAR SHAH', screen_name='MANISHK46106868', location='Kolkata, India', description='', url=None, entities={'description': {'urls': []}}, protected=False, followers_count=694, friends_count=776, listed_count=1, created_at=datetime.datetime(2018, 1, 7, 7, 53, 20), favourites_count=5732, utc_offset=None, time_zone=None, geo_enabled=True, verified=False, statuses_count=73, lang=None, contributors_enabled=False, is_translator=False, is_translation_enabled=False, profile_background_color='F5F8FA', profile_background_image_url=None, profile_background_image_url_https=None, profile_background_tile=False, profile_image_url='http://pbs.twimg.com/profile_images/956766633279635456/WxF6sZBK_normal.jpg', profile_image_url_https='https://pbs.twimg.com/profile_images/956766633279635456/WxF6sZBK_normal.jpg', profile_banner_url='https://pbs.twimg.com/profile_banners/949911817433726977/1516946513', profile_link_color='1DA1F2', profile_sidebar_border_color='C0DEED', profile_sidebar_fill_color='DDEEF6', profile_text_color='333333', profile_use_background_image=True, has_extended_profile=True, default_profile=True, default_profile_image=False, following=False, follow_request_sent=False, notifications=False, translator_type='none'), geo=None, coordinates=None, place=None, contributors=None, is_quote_status=False, retweet_count=0, favorite_count=0, favorited=False, retweeted=False, lang='en') \n",
      "\n",
      ".....................................................\n",
      "Status(_api=<tweepy.api.API object at 0x0000024BD7912C40>, _json={'created_at': 'Tue Oct 27 11:43:48 +0000 2020', 'id': 1321054989372985347, 'id_str': '1321054989372985347', 'full_text': '@iamsrk Who will win Bihar Election 2020 , Any Idea Sir? #AskSRK', 'truncated': False, 'display_text_range': [8, 64], 'entities': {'hashtags': [{'text': 'AskSRK', 'indices': [57, 64]}], 'symbols': [], 'user_mentions': [{'screen_name': 'iamsrk', 'name': 'Shah Rukh Khan', 'id': 101311381, 'id_str': '101311381', 'indices': [0, 7]}], 'urls': []}, 'metadata': {'iso_language_code': 'en', 'result_type': 'recent'}, 'source': '<a href=\"http://twitter.com/download/android\" rel=\"nofollow\">Twitter for Android</a>', 'in_reply_to_status_id': 1321053965933375488, 'in_reply_to_status_id_str': '1321053965933375488', 'in_reply_to_user_id': 101311381, 'in_reply_to_user_id_str': '101311381', 'in_reply_to_screen_name': 'iamsrk', 'user': {'id': 863478886398611462, 'id_str': '863478886398611462', 'name': 'Rizwan Aamir 🇮🇳', 'screen_name': 'rizwanaamir98', 'location': 'Aligarh, Kishanganj, Noida! ', 'description': 'Kishanganj Kisan Congress AICC District Social Media Co-Ordinator @KishanganjKisan  Political Activist - @INCIndia || Baba Saheb 💛\\nMovie Critic || SRKian', 'url': None, 'entities': {'description': {'urls': []}}, 'protected': False, 'followers_count': 909, 'friends_count': 1008, 'listed_count': 0, 'created_at': 'Sat May 13 19:39:43 +0000 2017', 'favourites_count': 33976, 'utc_offset': None, 'time_zone': None, 'geo_enabled': True, 'verified': False, 'statuses_count': 23373, 'lang': None, 'contributors_enabled': False, 'is_translator': False, 'is_translation_enabled': False, 'profile_background_color': 'F5F8FA', 'profile_background_image_url': None, 'profile_background_image_url_https': None, 'profile_background_tile': False, 'profile_image_url': 'http://pbs.twimg.com/profile_images/1292297380520329216/JlF-PH3i_normal.jpg', 'profile_image_url_https': 'https://pbs.twimg.com/profile_images/1292297380520329216/JlF-PH3i_normal.jpg', 'profile_banner_url': 'https://pbs.twimg.com/profile_banners/863478886398611462/1590559785', 'profile_link_color': '1DA1F2', 'profile_sidebar_border_color': 'C0DEED', 'profile_sidebar_fill_color': 'DDEEF6', 'profile_text_color': '333333', 'profile_use_background_image': True, 'has_extended_profile': True, 'default_profile': True, 'default_profile_image': False, 'following': False, 'follow_request_sent': False, 'notifications': False, 'translator_type': 'none'}, 'geo': None, 'coordinates': None, 'place': None, 'contributors': None, 'is_quote_status': False, 'retweet_count': 0, 'favorite_count': 0, 'favorited': False, 'retweeted': False, 'lang': 'en'}, created_at=datetime.datetime(2020, 10, 27, 11, 43, 48), id=1321054989372985347, id_str='1321054989372985347', full_text='@iamsrk Who will win Bihar Election 2020 , Any Idea Sir? #AskSRK', truncated=False, display_text_range=[8, 64], entities={'hashtags': [{'text': 'AskSRK', 'indices': [57, 64]}], 'symbols': [], 'user_mentions': [{'screen_name': 'iamsrk', 'name': 'Shah Rukh Khan', 'id': 101311381, 'id_str': '101311381', 'indices': [0, 7]}], 'urls': []}, metadata={'iso_language_code': 'en', 'result_type': 'recent'}, source='Twitter for Android', source_url='http://twitter.com/download/android', in_reply_to_status_id=1321053965933375488, in_reply_to_status_id_str='1321053965933375488', in_reply_to_user_id=101311381, in_reply_to_user_id_str='101311381', in_reply_to_screen_name='iamsrk', author=User(_api=<tweepy.api.API object at 0x0000024BD7912C40>, _json={'id': 863478886398611462, 'id_str': '863478886398611462', 'name': 'Rizwan Aamir 🇮🇳', 'screen_name': 'rizwanaamir98', 'location': 'Aligarh, Kishanganj, Noida! ', 'description': 'Kishanganj Kisan Congress AICC District Social Media Co-Ordinator @KishanganjKisan  Political Activist - @INCIndia || Baba Saheb 💛\\nMovie Critic || SRKian', 'url': None, 'entities': {'description': {'urls': []}}, 'protected': False, 'followers_count': 909, 'friends_count': 1008, 'listed_count': 0, 'created_at': 'Sat May 13 19:39:43 +0000 2017', 'favourites_count': 33976, 'utc_offset': None, 'time_zone': None, 'geo_enabled': True, 'verified': False, 'statuses_count': 23373, 'lang': None, 'contributors_enabled': False, 'is_translator': False, 'is_translation_enabled': False, 'profile_background_color': 'F5F8FA', 'profile_background_image_url': None, 'profile_background_image_url_https': None, 'profile_background_tile': False, 'profile_image_url': 'http://pbs.twimg.com/profile_images/1292297380520329216/JlF-PH3i_normal.jpg', 'profile_image_url_https': 'https://pbs.twimg.com/profile_images/1292297380520329216/JlF-PH3i_normal.jpg', 'profile_banner_url': 'https://pbs.twimg.com/profile_banners/863478886398611462/1590559785', 'profile_link_color': '1DA1F2', 'profile_sidebar_border_color': 'C0DEED', 'profile_sidebar_fill_color': 'DDEEF6', 'profile_text_color': '333333', 'profile_use_background_image': True, 'has_extended_profile': True, 'default_profile': True, 'default_profile_image': False, 'following': False, 'follow_request_sent': False, 'notifications': False, 'translator_type': 'none'}, id=863478886398611462, id_str='863478886398611462', name='Rizwan Aamir 🇮🇳', screen_name='rizwanaamir98', location='Aligarh, Kishanganj, Noida! ', description='Kishanganj Kisan Congress AICC District Social Media Co-Ordinator @KishanganjKisan  Political Activist - @INCIndia || Baba Saheb 💛\\nMovie Critic || SRKian', url=None, entities={'description': {'urls': []}}, protected=False, followers_count=909, friends_count=1008, listed_count=0, created_at=datetime.datetime(2017, 5, 13, 19, 39, 43), favourites_count=33976, utc_offset=None, time_zone=None, geo_enabled=True, verified=False, statuses_count=23373, lang=None, contributors_enabled=False, is_translator=False, is_translation_enabled=False, profile_background_color='F5F8FA', profile_background_image_url=None, profile_background_image_url_https=None, profile_background_tile=False, profile_image_url='http://pbs.twimg.com/profile_images/1292297380520329216/JlF-PH3i_normal.jpg', profile_image_url_https='https://pbs.twimg.com/profile_images/1292297380520329216/JlF-PH3i_normal.jpg', profile_banner_url='https://pbs.twimg.com/profile_banners/863478886398611462/1590559785', profile_link_color='1DA1F2', profile_sidebar_border_color='C0DEED', profile_sidebar_fill_color='DDEEF6', profile_text_color='333333', profile_use_background_image=True, has_extended_profile=True, default_profile=True, default_profile_image=False, following=False, follow_request_sent=False, notifications=False, translator_type='none'), user=User(_api=<tweepy.api.API object at 0x0000024BD7912C40>, _json={'id': 863478886398611462, 'id_str': '863478886398611462', 'name': 'Rizwan Aamir 🇮🇳', 'screen_name': 'rizwanaamir98', 'location': 'Aligarh, Kishanganj, Noida! ', 'description': 'Kishanganj Kisan Congress AICC District Social Media Co-Ordinator @KishanganjKisan  Political Activist - @INCIndia || Baba Saheb 💛\\nMovie Critic || SRKian', 'url': None, 'entities': {'description': {'urls': []}}, 'protected': False, 'followers_count': 909, 'friends_count': 1008, 'listed_count': 0, 'created_at': 'Sat May 13 19:39:43 +0000 2017', 'favourites_count': 33976, 'utc_offset': None, 'time_zone': None, 'geo_enabled': True, 'verified': False, 'statuses_count': 23373, 'lang': None, 'contributors_enabled': False, 'is_translator': False, 'is_translation_enabled': False, 'profile_background_color': 'F5F8FA', 'profile_background_image_url': None, 'profile_background_image_url_https': None, 'profile_background_tile': False, 'profile_image_url': 'http://pbs.twimg.com/profile_images/1292297380520329216/JlF-PH3i_normal.jpg', 'profile_image_url_https': 'https://pbs.twimg.com/profile_images/1292297380520329216/JlF-PH3i_normal.jpg', 'profile_banner_url': 'https://pbs.twimg.com/profile_banners/863478886398611462/1590559785', 'profile_link_color': '1DA1F2', 'profile_sidebar_border_color': 'C0DEED', 'profile_sidebar_fill_color': 'DDEEF6', 'profile_text_color': '333333', 'profile_use_background_image': True, 'has_extended_profile': True, 'default_profile': True, 'default_profile_image': False, 'following': False, 'follow_request_sent': False, 'notifications': False, 'translator_type': 'none'}, id=863478886398611462, id_str='863478886398611462', name='Rizwan Aamir 🇮🇳', screen_name='rizwanaamir98', location='Aligarh, Kishanganj, Noida! ', description='Kishanganj Kisan Congress AICC District Social Media Co-Ordinator @KishanganjKisan  Political Activist - @INCIndia || Baba Saheb 💛\\nMovie Critic || SRKian', url=None, entities={'description': {'urls': []}}, protected=False, followers_count=909, friends_count=1008, listed_count=0, created_at=datetime.datetime(2017, 5, 13, 19, 39, 43), favourites_count=33976, utc_offset=None, time_zone=None, geo_enabled=True, verified=False, statuses_count=23373, lang=None, contributors_enabled=False, is_translator=False, is_translation_enabled=False, profile_background_color='F5F8FA', profile_background_image_url=None, profile_background_image_url_https=None, profile_background_tile=False, profile_image_url='http://pbs.twimg.com/profile_images/1292297380520329216/JlF-PH3i_normal.jpg', profile_image_url_https='https://pbs.twimg.com/profile_images/1292297380520329216/JlF-PH3i_normal.jpg', profile_banner_url='https://pbs.twimg.com/profile_banners/863478886398611462/1590559785', profile_link_color='1DA1F2', profile_sidebar_border_color='C0DEED', profile_sidebar_fill_color='DDEEF6', profile_text_color='333333', profile_use_background_image=True, has_extended_profile=True, default_profile=True, default_profile_image=False, following=False, follow_request_sent=False, notifications=False, translator_type='none'), geo=None, coordinates=None, place=None, contributors=None, is_quote_status=False, retweet_count=0, favorite_count=0, favorited=False, retweeted=False, lang='en') \n",
      "\n",
      ".....................................................\n",
      "Status(_api=<tweepy.api.API object at 0x0000024BD7912C40>, _json={'created_at': 'Mon Oct 26 10:02:56 +0000 2020', 'id': 1320667218514903040, 'id_str': '1320667218514903040', 'full_text': 'In Bihar Election 2020 \\nTejashwi Vs  Modi\\nWho will win ?\\n@yadavtejashwi \\n@narendramodi \\n@RahulGandhi \\n@priyankagandhi \\n@TejYadav14 \\n@AmitShah \\n@JPNadda \\n@iChiragPaswan \\n@yadavakhilesh \\n@ShayarImran \\n@HansrajMeena \\n@kanhaiyakumar \\n@BhimArmyChief', 'truncated': False, 'display_text_range': [0, 244], 'entities': {'hashtags': [], 'symbols': [], 'user_mentions': [{'screen_name': 'yadavtejashwi', 'name': 'Tejashwi Yadav', 'id': 2253148681, 'id_str': '2253148681', 'indices': [57, 71]}, {'screen_name': 'narendramodi', 'name': 'Narendra Modi', 'id': 18839785, 'id_str': '18839785', 'indices': [73, 86]}, {'screen_name': 'RahulGandhi', 'name': 'Rahul Gandhi', 'id': 3171712086, 'id_str': '3171712086', 'indices': [88, 100]}, {'screen_name': 'priyankagandhi', 'name': 'Priyanka Gandhi Vadra', 'id': 1094645942735855618, 'id_str': '1094645942735855618', 'indices': [102, 117]}, {'screen_name': 'TejYadav14', 'name': 'Tej Pratap Yadav', 'id': 3241274101, 'id_str': '3241274101', 'indices': [119, 130]}, {'screen_name': 'AmitShah', 'name': 'Amit Shah', 'id': 1447949844, 'id_str': '1447949844', 'indices': [132, 141]}, {'screen_name': 'JPNadda', 'name': 'Jagat Prakash Nadda', 'id': 2990611686, 'id_str': '2990611686', 'indices': [143, 151]}, {'screen_name': 'iChiragPaswan', 'name': 'युवा बिहारी चिराग पासवान', 'id': 394101604, 'id_str': '394101604', 'indices': [153, 167]}, {'screen_name': 'yadavakhilesh', 'name': 'Akhilesh Yadav', 'id': 57948579, 'id_str': '57948579', 'indices': [169, 183]}, {'screen_name': 'ShayarImran', 'name': 'Imran Pratapgarhi', 'id': 2991792386, 'id_str': '2991792386', 'indices': [185, 197]}, {'screen_name': 'HansrajMeena', 'name': 'Hansraj Meena', 'id': 2730745332, 'id_str': '2730745332', 'indices': [199, 212]}, {'screen_name': 'kanhaiyakumar', 'name': 'Kanhaiya Kumar', 'id': 2584552812, 'id_str': '2584552812', 'indices': [214, 228]}, {'screen_name': 'BhimArmyChief', 'name': 'Chandra Shekhar Aazad', 'id': 968482448253140993, 'id_str': '968482448253140993', 'indices': [230, 244]}], 'urls': []}, 'metadata': {'iso_language_code': 'en', 'result_type': 'recent'}, 'source': '<a href=\"https://mobile.twitter.com\" rel=\"nofollow\">Twitter Web App</a>', 'in_reply_to_status_id': None, 'in_reply_to_status_id_str': None, 'in_reply_to_user_id': None, 'in_reply_to_user_id_str': None, 'in_reply_to_screen_name': None, 'user': {'id': 1430268710, 'id_str': '1430268710', 'name': 'INTAKHAB ALAM', 'screen_name': 'Intakhab_NITH', 'location': '', 'description': 'Software Engineer , NITians , Socio- Political Activist with Principle of Secularism, Equality, Humanity & Justice. Son of Farmer,Tweets are Personal.', 'url': None, 'entities': {'description': {'urls': []}}, 'protected': False, 'followers_count': 133, 'friends_count': 1030, 'listed_count': 0, 'created_at': 'Wed May 15 11:25:08 +0000 2013', 'favourites_count': 1907, 'utc_offset': None, 'time_zone': None, 'geo_enabled': False, 'verified': False, 'statuses_count': 1484, 'lang': None, 'contributors_enabled': False, 'is_translator': False, 'is_translation_enabled': False, 'profile_background_color': 'C0DEED', 'profile_background_image_url': 'http://abs.twimg.com/images/themes/theme1/bg.png', 'profile_background_image_url_https': 'https://abs.twimg.com/images/themes/theme1/bg.png', 'profile_background_tile': False, 'profile_image_url': 'http://pbs.twimg.com/profile_images/1318196727845773312/wpXYzRUO_normal.jpg', 'profile_image_url_https': 'https://pbs.twimg.com/profile_images/1318196727845773312/wpXYzRUO_normal.jpg', 'profile_banner_url': 'https://pbs.twimg.com/profile_banners/1430268710/1587305567', 'profile_link_color': '1DA1F2', 'profile_sidebar_border_color': 'C0DEED', 'profile_sidebar_fill_color': 'DDEEF6', 'profile_text_color': '333333', 'profile_use_background_image': True, 'has_extended_profile': False, 'default_profile': True, 'default_profile_image': False, 'following': False, 'follow_request_sent': False, 'notifications': False, 'translator_type': 'none'}, 'geo': None, 'coordinates': None, 'place': None, 'contributors': None, 'is_quote_status': False, 'retweet_count': 1, 'favorite_count': 1, 'favorited': False, 'retweeted': False, 'lang': 'en'}, created_at=datetime.datetime(2020, 10, 26, 10, 2, 56), id=1320667218514903040, id_str='1320667218514903040', full_text='In Bihar Election 2020 \\nTejashwi Vs  Modi\\nWho will win ?\\n@yadavtejashwi \\n@narendramodi \\n@RahulGandhi \\n@priyankagandhi \\n@TejYadav14 \\n@AmitShah \\n@JPNadda \\n@iChiragPaswan \\n@yadavakhilesh \\n@ShayarImran \\n@HansrajMeena \\n@kanhaiyakumar \\n@BhimArmyChief', truncated=False, display_text_range=[0, 244], entities={'hashtags': [], 'symbols': [], 'user_mentions': [{'screen_name': 'yadavtejashwi', 'name': 'Tejashwi Yadav', 'id': 2253148681, 'id_str': '2253148681', 'indices': [57, 71]}, {'screen_name': 'narendramodi', 'name': 'Narendra Modi', 'id': 18839785, 'id_str': '18839785', 'indices': [73, 86]}, {'screen_name': 'RahulGandhi', 'name': 'Rahul Gandhi', 'id': 3171712086, 'id_str': '3171712086', 'indices': [88, 100]}, {'screen_name': 'priyankagandhi', 'name': 'Priyanka Gandhi Vadra', 'id': 1094645942735855618, 'id_str': '1094645942735855618', 'indices': [102, 117]}, {'screen_name': 'TejYadav14', 'name': 'Tej Pratap Yadav', 'id': 3241274101, 'id_str': '3241274101', 'indices': [119, 130]}, {'screen_name': 'AmitShah', 'name': 'Amit Shah', 'id': 1447949844, 'id_str': '1447949844', 'indices': [132, 141]}, {'screen_name': 'JPNadda', 'name': 'Jagat Prakash Nadda', 'id': 2990611686, 'id_str': '2990611686', 'indices': [143, 151]}, {'screen_name': 'iChiragPaswan', 'name': 'युवा बिहारी चिराग पासवान', 'id': 394101604, 'id_str': '394101604', 'indices': [153, 167]}, {'screen_name': 'yadavakhilesh', 'name': 'Akhilesh Yadav', 'id': 57948579, 'id_str': '57948579', 'indices': [169, 183]}, {'screen_name': 'ShayarImran', 'name': 'Imran Pratapgarhi', 'id': 2991792386, 'id_str': '2991792386', 'indices': [185, 197]}, {'screen_name': 'HansrajMeena', 'name': 'Hansraj Meena', 'id': 2730745332, 'id_str': '2730745332', 'indices': [199, 212]}, {'screen_name': 'kanhaiyakumar', 'name': 'Kanhaiya Kumar', 'id': 2584552812, 'id_str': '2584552812', 'indices': [214, 228]}, {'screen_name': 'BhimArmyChief', 'name': 'Chandra Shekhar Aazad', 'id': 968482448253140993, 'id_str': '968482448253140993', 'indices': [230, 244]}], 'urls': []}, metadata={'iso_language_code': 'en', 'result_type': 'recent'}, source='Twitter Web App', source_url='https://mobile.twitter.com', in_reply_to_status_id=None, in_reply_to_status_id_str=None, in_reply_to_user_id=None, in_reply_to_user_id_str=None, in_reply_to_screen_name=None, author=User(_api=<tweepy.api.API object at 0x0000024BD7912C40>, _json={'id': 1430268710, 'id_str': '1430268710', 'name': 'INTAKHAB ALAM', 'screen_name': 'Intakhab_NITH', 'location': '', 'description': 'Software Engineer , NITians , Socio- Political Activist with Principle of Secularism, Equality, Humanity & Justice. Son of Farmer,Tweets are Personal.', 'url': None, 'entities': {'description': {'urls': []}}, 'protected': False, 'followers_count': 133, 'friends_count': 1030, 'listed_count': 0, 'created_at': 'Wed May 15 11:25:08 +0000 2013', 'favourites_count': 1907, 'utc_offset': None, 'time_zone': None, 'geo_enabled': False, 'verified': False, 'statuses_count': 1484, 'lang': None, 'contributors_enabled': False, 'is_translator': False, 'is_translation_enabled': False, 'profile_background_color': 'C0DEED', 'profile_background_image_url': 'http://abs.twimg.com/images/themes/theme1/bg.png', 'profile_background_image_url_https': 'https://abs.twimg.com/images/themes/theme1/bg.png', 'profile_background_tile': False, 'profile_image_url': 'http://pbs.twimg.com/profile_images/1318196727845773312/wpXYzRUO_normal.jpg', 'profile_image_url_https': 'https://pbs.twimg.com/profile_images/1318196727845773312/wpXYzRUO_normal.jpg', 'profile_banner_url': 'https://pbs.twimg.com/profile_banners/1430268710/1587305567', 'profile_link_color': '1DA1F2', 'profile_sidebar_border_color': 'C0DEED', 'profile_sidebar_fill_color': 'DDEEF6', 'profile_text_color': '333333', 'profile_use_background_image': True, 'has_extended_profile': False, 'default_profile': True, 'default_profile_image': False, 'following': False, 'follow_request_sent': False, 'notifications': False, 'translator_type': 'none'}, id=1430268710, id_str='1430268710', name='INTAKHAB ALAM', screen_name='Intakhab_NITH', location='', description='Software Engineer , NITians , Socio- Political Activist with Principle of Secularism, Equality, Humanity & Justice. Son of Farmer,Tweets are Personal.', url=None, entities={'description': {'urls': []}}, protected=False, followers_count=133, friends_count=1030, listed_count=0, created_at=datetime.datetime(2013, 5, 15, 11, 25, 8), favourites_count=1907, utc_offset=None, time_zone=None, geo_enabled=False, verified=False, statuses_count=1484, lang=None, contributors_enabled=False, is_translator=False, is_translation_enabled=False, profile_background_color='C0DEED', profile_background_image_url='http://abs.twimg.com/images/themes/theme1/bg.png', profile_background_image_url_https='https://abs.twimg.com/images/themes/theme1/bg.png', profile_background_tile=False, profile_image_url='http://pbs.twimg.com/profile_images/1318196727845773312/wpXYzRUO_normal.jpg', profile_image_url_https='https://pbs.twimg.com/profile_images/1318196727845773312/wpXYzRUO_normal.jpg', profile_banner_url='https://pbs.twimg.com/profile_banners/1430268710/1587305567', profile_link_color='1DA1F2', profile_sidebar_border_color='C0DEED', profile_sidebar_fill_color='DDEEF6', profile_text_color='333333', profile_use_background_image=True, has_extended_profile=False, default_profile=True, default_profile_image=False, following=False, follow_request_sent=False, notifications=False, translator_type='none'), user=User(_api=<tweepy.api.API object at 0x0000024BD7912C40>, _json={'id': 1430268710, 'id_str': '1430268710', 'name': 'INTAKHAB ALAM', 'screen_name': 'Intakhab_NITH', 'location': '', 'description': 'Software Engineer , NITians , Socio- Political Activist with Principle of Secularism, Equality, Humanity & Justice. Son of Farmer,Tweets are Personal.', 'url': None, 'entities': {'description': {'urls': []}}, 'protected': False, 'followers_count': 133, 'friends_count': 1030, 'listed_count': 0, 'created_at': 'Wed May 15 11:25:08 +0000 2013', 'favourites_count': 1907, 'utc_offset': None, 'time_zone': None, 'geo_enabled': False, 'verified': False, 'statuses_count': 1484, 'lang': None, 'contributors_enabled': False, 'is_translator': False, 'is_translation_enabled': False, 'profile_background_color': 'C0DEED', 'profile_background_image_url': 'http://abs.twimg.com/images/themes/theme1/bg.png', 'profile_background_image_url_https': 'https://abs.twimg.com/images/themes/theme1/bg.png', 'profile_background_tile': False, 'profile_image_url': 'http://pbs.twimg.com/profile_images/1318196727845773312/wpXYzRUO_normal.jpg', 'profile_image_url_https': 'https://pbs.twimg.com/profile_images/1318196727845773312/wpXYzRUO_normal.jpg', 'profile_banner_url': 'https://pbs.twimg.com/profile_banners/1430268710/1587305567', 'profile_link_color': '1DA1F2', 'profile_sidebar_border_color': 'C0DEED', 'profile_sidebar_fill_color': 'DDEEF6', 'profile_text_color': '333333', 'profile_use_background_image': True, 'has_extended_profile': False, 'default_profile': True, 'default_profile_image': False, 'following': False, 'follow_request_sent': False, 'notifications': False, 'translator_type': 'none'}, id=1430268710, id_str='1430268710', name='INTAKHAB ALAM', screen_name='Intakhab_NITH', location='', description='Software Engineer , NITians , Socio- Political Activist with Principle of Secularism, Equality, Humanity & Justice. Son of Farmer,Tweets are Personal.', url=None, entities={'description': {'urls': []}}, protected=False, followers_count=133, friends_count=1030, listed_count=0, created_at=datetime.datetime(2013, 5, 15, 11, 25, 8), favourites_count=1907, utc_offset=None, time_zone=None, geo_enabled=False, verified=False, statuses_count=1484, lang=None, contributors_enabled=False, is_translator=False, is_translation_enabled=False, profile_background_color='C0DEED', profile_background_image_url='http://abs.twimg.com/images/themes/theme1/bg.png', profile_background_image_url_https='https://abs.twimg.com/images/themes/theme1/bg.png', profile_background_tile=False, profile_image_url='http://pbs.twimg.com/profile_images/1318196727845773312/wpXYzRUO_normal.jpg', profile_image_url_https='https://pbs.twimg.com/profile_images/1318196727845773312/wpXYzRUO_normal.jpg', profile_banner_url='https://pbs.twimg.com/profile_banners/1430268710/1587305567', profile_link_color='1DA1F2', profile_sidebar_border_color='C0DEED', profile_sidebar_fill_color='DDEEF6', profile_text_color='333333', profile_use_background_image=True, has_extended_profile=False, default_profile=True, default_profile_image=False, following=False, follow_request_sent=False, notifications=False, translator_type='none'), geo=None, coordinates=None, place=None, contributors=None, is_quote_status=False, retweet_count=1, favorite_count=1, favorited=False, retweeted=False, lang='en') \n",
      "\n",
      ".....................................................\n",
      "Status(_api=<tweepy.api.API object at 0x0000024BD7912C40>, _json={'created_at': 'Mon Oct 26 04:54:02 +0000 2020', 'id': 1320589483952074753, 'id_str': '1320589483952074753', 'full_text': 'Who will win Bihar assembly election 2020 ?\\n\\nA. Narendra modi = pride of nation\\nB. tejaswi yadav.  = कलंक on nation\\n\\n#बैकुंठपुर_बिहार_मे_ई_बा', 'truncated': False, 'display_text_range': [0, 141], 'entities': {'hashtags': [{'text': 'बैकुंठपुर_बिहार_मे_ई_बा', 'indices': [117, 141]}], 'symbols': [], 'user_mentions': [], 'urls': []}, 'metadata': {'iso_language_code': 'en', 'result_type': 'recent'}, 'source': '<a href=\"http://twitter.com/download/android\" rel=\"nofollow\">Twitter for Android</a>', 'in_reply_to_status_id': None, 'in_reply_to_status_id_str': None, 'in_reply_to_user_id': None, 'in_reply_to_user_id_str': None, 'in_reply_to_screen_name': None, 'user': {'id': 1245763214627004418, 'id_str': '1245763214627004418', 'name': 'Narendra Modi Fan', 'screen_name': 'Narendra_Fan_IN', 'location': 'India', 'description': 'Fan page of Indian Prime minister shri Narendra Modi Ji\\n\\nIndian\\nRSS\\nBJP', 'url': 'https://t.co/H0Ox0dRv3m', 'entities': {'url': {'urls': [{'url': 'https://t.co/H0Ox0dRv3m', 'expanded_url': 'http://WWW.Narendramodi.in', 'display_url': 'Narendramodi.in', 'indices': [0, 23]}]}, 'description': {'urls': []}}, 'protected': False, 'followers_count': 1078, 'friends_count': 2035, 'listed_count': 0, 'created_at': 'Thu Apr 02 17:21:21 +0000 2020', 'favourites_count': 13758, 'utc_offset': None, 'time_zone': None, 'geo_enabled': False, 'verified': False, 'statuses_count': 2679, 'lang': None, 'contributors_enabled': False, 'is_translator': False, 'is_translation_enabled': False, 'profile_background_color': 'F5F8FA', 'profile_background_image_url': None, 'profile_background_image_url_https': None, 'profile_background_tile': False, 'profile_image_url': 'http://pbs.twimg.com/profile_images/1320923504326262784/w6XYfVsm_normal.jpg', 'profile_image_url_https': 'https://pbs.twimg.com/profile_images/1320923504326262784/w6XYfVsm_normal.jpg', 'profile_banner_url': 'https://pbs.twimg.com/profile_banners/1245763214627004418/1603767679', 'profile_link_color': '1DA1F2', 'profile_sidebar_border_color': 'C0DEED', 'profile_sidebar_fill_color': 'DDEEF6', 'profile_text_color': '333333', 'profile_use_background_image': True, 'has_extended_profile': False, 'default_profile': True, 'default_profile_image': False, 'following': False, 'follow_request_sent': False, 'notifications': False, 'translator_type': 'none'}, 'geo': None, 'coordinates': None, 'place': None, 'contributors': None, 'is_quote_status': False, 'retweet_count': 22, 'favorite_count': 32, 'favorited': False, 'retweeted': False, 'lang': 'en'}, created_at=datetime.datetime(2020, 10, 26, 4, 54, 2), id=1320589483952074753, id_str='1320589483952074753', full_text='Who will win Bihar assembly election 2020 ?\\n\\nA. Narendra modi = pride of nation\\nB. tejaswi yadav.  = कलंक on nation\\n\\n#बैकुंठपुर_बिहार_मे_ई_बा', truncated=False, display_text_range=[0, 141], entities={'hashtags': [{'text': 'बैकुंठपुर_बिहार_मे_ई_बा', 'indices': [117, 141]}], 'symbols': [], 'user_mentions': [], 'urls': []}, metadata={'iso_language_code': 'en', 'result_type': 'recent'}, source='Twitter for Android', source_url='http://twitter.com/download/android', in_reply_to_status_id=None, in_reply_to_status_id_str=None, in_reply_to_user_id=None, in_reply_to_user_id_str=None, in_reply_to_screen_name=None, author=User(_api=<tweepy.api.API object at 0x0000024BD7912C40>, _json={'id': 1245763214627004418, 'id_str': '1245763214627004418', 'name': 'Narendra Modi Fan', 'screen_name': 'Narendra_Fan_IN', 'location': 'India', 'description': 'Fan page of Indian Prime minister shri Narendra Modi Ji\\n\\nIndian\\nRSS\\nBJP', 'url': 'https://t.co/H0Ox0dRv3m', 'entities': {'url': {'urls': [{'url': 'https://t.co/H0Ox0dRv3m', 'expanded_url': 'http://WWW.Narendramodi.in', 'display_url': 'Narendramodi.in', 'indices': [0, 23]}]}, 'description': {'urls': []}}, 'protected': False, 'followers_count': 1078, 'friends_count': 2035, 'listed_count': 0, 'created_at': 'Thu Apr 02 17:21:21 +0000 2020', 'favourites_count': 13758, 'utc_offset': None, 'time_zone': None, 'geo_enabled': False, 'verified': False, 'statuses_count': 2679, 'lang': None, 'contributors_enabled': False, 'is_translator': False, 'is_translation_enabled': False, 'profile_background_color': 'F5F8FA', 'profile_background_image_url': None, 'profile_background_image_url_https': None, 'profile_background_tile': False, 'profile_image_url': 'http://pbs.twimg.com/profile_images/1320923504326262784/w6XYfVsm_normal.jpg', 'profile_image_url_https': 'https://pbs.twimg.com/profile_images/1320923504326262784/w6XYfVsm_normal.jpg', 'profile_banner_url': 'https://pbs.twimg.com/profile_banners/1245763214627004418/1603767679', 'profile_link_color': '1DA1F2', 'profile_sidebar_border_color': 'C0DEED', 'profile_sidebar_fill_color': 'DDEEF6', 'profile_text_color': '333333', 'profile_use_background_image': True, 'has_extended_profile': False, 'default_profile': True, 'default_profile_image': False, 'following': False, 'follow_request_sent': False, 'notifications': False, 'translator_type': 'none'}, id=1245763214627004418, id_str='1245763214627004418', name='Narendra Modi Fan', screen_name='Narendra_Fan_IN', location='India', description='Fan page of Indian Prime minister shri Narendra Modi Ji\\n\\nIndian\\nRSS\\nBJP', url='https://t.co/H0Ox0dRv3m', entities={'url': {'urls': [{'url': 'https://t.co/H0Ox0dRv3m', 'expanded_url': 'http://WWW.Narendramodi.in', 'display_url': 'Narendramodi.in', 'indices': [0, 23]}]}, 'description': {'urls': []}}, protected=False, followers_count=1078, friends_count=2035, listed_count=0, created_at=datetime.datetime(2020, 4, 2, 17, 21, 21), favourites_count=13758, utc_offset=None, time_zone=None, geo_enabled=False, verified=False, statuses_count=2679, lang=None, contributors_enabled=False, is_translator=False, is_translation_enabled=False, profile_background_color='F5F8FA', profile_background_image_url=None, profile_background_image_url_https=None, profile_background_tile=False, profile_image_url='http://pbs.twimg.com/profile_images/1320923504326262784/w6XYfVsm_normal.jpg', profile_image_url_https='https://pbs.twimg.com/profile_images/1320923504326262784/w6XYfVsm_normal.jpg', profile_banner_url='https://pbs.twimg.com/profile_banners/1245763214627004418/1603767679', profile_link_color='1DA1F2', profile_sidebar_border_color='C0DEED', profile_sidebar_fill_color='DDEEF6', profile_text_color='333333', profile_use_background_image=True, has_extended_profile=False, default_profile=True, default_profile_image=False, following=False, follow_request_sent=False, notifications=False, translator_type='none'), user=User(_api=<tweepy.api.API object at 0x0000024BD7912C40>, _json={'id': 1245763214627004418, 'id_str': '1245763214627004418', 'name': 'Narendra Modi Fan', 'screen_name': 'Narendra_Fan_IN', 'location': 'India', 'description': 'Fan page of Indian Prime minister shri Narendra Modi Ji\\n\\nIndian\\nRSS\\nBJP', 'url': 'https://t.co/H0Ox0dRv3m', 'entities': {'url': {'urls': [{'url': 'https://t.co/H0Ox0dRv3m', 'expanded_url': 'http://WWW.Narendramodi.in', 'display_url': 'Narendramodi.in', 'indices': [0, 23]}]}, 'description': {'urls': []}}, 'protected': False, 'followers_count': 1078, 'friends_count': 2035, 'listed_count': 0, 'created_at': 'Thu Apr 02 17:21:21 +0000 2020', 'favourites_count': 13758, 'utc_offset': None, 'time_zone': None, 'geo_enabled': False, 'verified': False, 'statuses_count': 2679, 'lang': None, 'contributors_enabled': False, 'is_translator': False, 'is_translation_enabled': False, 'profile_background_color': 'F5F8FA', 'profile_background_image_url': None, 'profile_background_image_url_https': None, 'profile_background_tile': False, 'profile_image_url': 'http://pbs.twimg.com/profile_images/1320923504326262784/w6XYfVsm_normal.jpg', 'profile_image_url_https': 'https://pbs.twimg.com/profile_images/1320923504326262784/w6XYfVsm_normal.jpg', 'profile_banner_url': 'https://pbs.twimg.com/profile_banners/1245763214627004418/1603767679', 'profile_link_color': '1DA1F2', 'profile_sidebar_border_color': 'C0DEED', 'profile_sidebar_fill_color': 'DDEEF6', 'profile_text_color': '333333', 'profile_use_background_image': True, 'has_extended_profile': False, 'default_profile': True, 'default_profile_image': False, 'following': False, 'follow_request_sent': False, 'notifications': False, 'translator_type': 'none'}, id=1245763214627004418, id_str='1245763214627004418', name='Narendra Modi Fan', screen_name='Narendra_Fan_IN', location='India', description='Fan page of Indian Prime minister shri Narendra Modi Ji\\n\\nIndian\\nRSS\\nBJP', url='https://t.co/H0Ox0dRv3m', entities={'url': {'urls': [{'url': 'https://t.co/H0Ox0dRv3m', 'expanded_url': 'http://WWW.Narendramodi.in', 'display_url': 'Narendramodi.in', 'indices': [0, 23]}]}, 'description': {'urls': []}}, protected=False, followers_count=1078, friends_count=2035, listed_count=0, created_at=datetime.datetime(2020, 4, 2, 17, 21, 21), favourites_count=13758, utc_offset=None, time_zone=None, geo_enabled=False, verified=False, statuses_count=2679, lang=None, contributors_enabled=False, is_translator=False, is_translation_enabled=False, profile_background_color='F5F8FA', profile_background_image_url=None, profile_background_image_url_https=None, profile_background_tile=False, profile_image_url='http://pbs.twimg.com/profile_images/1320923504326262784/w6XYfVsm_normal.jpg', profile_image_url_https='https://pbs.twimg.com/profile_images/1320923504326262784/w6XYfVsm_normal.jpg', profile_banner_url='https://pbs.twimg.com/profile_banners/1245763214627004418/1603767679', profile_link_color='1DA1F2', profile_sidebar_border_color='C0DEED', profile_sidebar_fill_color='DDEEF6', profile_text_color='333333', profile_use_background_image=True, has_extended_profile=False, default_profile=True, default_profile_image=False, following=False, follow_request_sent=False, notifications=False, translator_type='none'), geo=None, coordinates=None, place=None, contributors=None, is_quote_status=False, retweet_count=22, favorite_count=32, favorited=False, retweeted=False, lang='en') \n",
      "\n",
      ".....................................................\n",
      "Status(_api=<tweepy.api.API object at 0x0000024BD7912C40>, _json={'created_at': 'Sun Oct 25 01:35:51 +0000 2020', 'id': 1320177220480978945, 'id_str': '1320177220480978945', 'full_text': 'Who is going to win Bihar assembly election 2020?\\n#BiharElections #BiharPolls #BiharElections2020', 'truncated': False, 'display_text_range': [0, 97], 'entities': {'hashtags': [{'text': 'BiharElections', 'indices': [50, 65]}, {'text': 'BiharPolls', 'indices': [66, 77]}, {'text': 'BiharElections2020', 'indices': [78, 97]}], 'symbols': [], 'user_mentions': [], 'urls': []}, 'metadata': {'iso_language_code': 'en', 'result_type': 'recent'}, 'source': '<a href=\"https://mobile.twitter.com\" rel=\"nofollow\">Twitter Web App</a>', 'in_reply_to_status_id': None, 'in_reply_to_status_id_str': None, 'in_reply_to_user_id': None, 'in_reply_to_user_id_str': None, 'in_reply_to_screen_name': None, 'user': {'id': 1051085308874260480, 'id_str': '1051085308874260480', 'name': 'Nitesh Jha', 'screen_name': 'nitesh_jha13', 'location': 'Bihar-Delhi', 'description': 'Journalist|| Curious about #Defence & #Diplomacy|| Right is right, even if everyone is against it, and wrong is wrong, even if everyone is for it.', 'url': None, 'entities': {'description': {'urls': []}}, 'protected': False, 'followers_count': 108, 'friends_count': 179, 'listed_count': 0, 'created_at': 'Sat Oct 13 12:20:40 +0000 2018', 'favourites_count': 3867, 'utc_offset': None, 'time_zone': None, 'geo_enabled': False, 'verified': False, 'statuses_count': 1552, 'lang': None, 'contributors_enabled': False, 'is_translator': False, 'is_translation_enabled': False, 'profile_background_color': 'F5F8FA', 'profile_background_image_url': None, 'profile_background_image_url_https': None, 'profile_background_tile': False, 'profile_image_url': 'http://pbs.twimg.com/profile_images/1265090612090544128/a2zUjyTR_normal.jpg', 'profile_image_url_https': 'https://pbs.twimg.com/profile_images/1265090612090544128/a2zUjyTR_normal.jpg', 'profile_banner_url': 'https://pbs.twimg.com/profile_banners/1051085308874260480/1578878827', 'profile_link_color': '1DA1F2', 'profile_sidebar_border_color': 'C0DEED', 'profile_sidebar_fill_color': 'DDEEF6', 'profile_text_color': '333333', 'profile_use_background_image': True, 'has_extended_profile': True, 'default_profile': True, 'default_profile_image': False, 'following': False, 'follow_request_sent': False, 'notifications': False, 'translator_type': 'none'}, 'geo': None, 'coordinates': None, 'place': None, 'contributors': None, 'is_quote_status': False, 'retweet_count': 0, 'favorite_count': 1, 'favorited': False, 'retweeted': False, 'lang': 'en'}, created_at=datetime.datetime(2020, 10, 25, 1, 35, 51), id=1320177220480978945, id_str='1320177220480978945', full_text='Who is going to win Bihar assembly election 2020?\\n#BiharElections #BiharPolls #BiharElections2020', truncated=False, display_text_range=[0, 97], entities={'hashtags': [{'text': 'BiharElections', 'indices': [50, 65]}, {'text': 'BiharPolls', 'indices': [66, 77]}, {'text': 'BiharElections2020', 'indices': [78, 97]}], 'symbols': [], 'user_mentions': [], 'urls': []}, metadata={'iso_language_code': 'en', 'result_type': 'recent'}, source='Twitter Web App', source_url='https://mobile.twitter.com', in_reply_to_status_id=None, in_reply_to_status_id_str=None, in_reply_to_user_id=None, in_reply_to_user_id_str=None, in_reply_to_screen_name=None, author=User(_api=<tweepy.api.API object at 0x0000024BD7912C40>, _json={'id': 1051085308874260480, 'id_str': '1051085308874260480', 'name': 'Nitesh Jha', 'screen_name': 'nitesh_jha13', 'location': 'Bihar-Delhi', 'description': 'Journalist|| Curious about #Defence & #Diplomacy|| Right is right, even if everyone is against it, and wrong is wrong, even if everyone is for it.', 'url': None, 'entities': {'description': {'urls': []}}, 'protected': False, 'followers_count': 108, 'friends_count': 179, 'listed_count': 0, 'created_at': 'Sat Oct 13 12:20:40 +0000 2018', 'favourites_count': 3867, 'utc_offset': None, 'time_zone': None, 'geo_enabled': False, 'verified': False, 'statuses_count': 1552, 'lang': None, 'contributors_enabled': False, 'is_translator': False, 'is_translation_enabled': False, 'profile_background_color': 'F5F8FA', 'profile_background_image_url': None, 'profile_background_image_url_https': None, 'profile_background_tile': False, 'profile_image_url': 'http://pbs.twimg.com/profile_images/1265090612090544128/a2zUjyTR_normal.jpg', 'profile_image_url_https': 'https://pbs.twimg.com/profile_images/1265090612090544128/a2zUjyTR_normal.jpg', 'profile_banner_url': 'https://pbs.twimg.com/profile_banners/1051085308874260480/1578878827', 'profile_link_color': '1DA1F2', 'profile_sidebar_border_color': 'C0DEED', 'profile_sidebar_fill_color': 'DDEEF6', 'profile_text_color': '333333', 'profile_use_background_image': True, 'has_extended_profile': True, 'default_profile': True, 'default_profile_image': False, 'following': False, 'follow_request_sent': False, 'notifications': False, 'translator_type': 'none'}, id=1051085308874260480, id_str='1051085308874260480', name='Nitesh Jha', screen_name='nitesh_jha13', location='Bihar-Delhi', description='Journalist|| Curious about #Defence & #Diplomacy|| Right is right, even if everyone is against it, and wrong is wrong, even if everyone is for it.', url=None, entities={'description': {'urls': []}}, protected=False, followers_count=108, friends_count=179, listed_count=0, created_at=datetime.datetime(2018, 10, 13, 12, 20, 40), favourites_count=3867, utc_offset=None, time_zone=None, geo_enabled=False, verified=False, statuses_count=1552, lang=None, contributors_enabled=False, is_translator=False, is_translation_enabled=False, profile_background_color='F5F8FA', profile_background_image_url=None, profile_background_image_url_https=None, profile_background_tile=False, profile_image_url='http://pbs.twimg.com/profile_images/1265090612090544128/a2zUjyTR_normal.jpg', profile_image_url_https='https://pbs.twimg.com/profile_images/1265090612090544128/a2zUjyTR_normal.jpg', profile_banner_url='https://pbs.twimg.com/profile_banners/1051085308874260480/1578878827', profile_link_color='1DA1F2', profile_sidebar_border_color='C0DEED', profile_sidebar_fill_color='DDEEF6', profile_text_color='333333', profile_use_background_image=True, has_extended_profile=True, default_profile=True, default_profile_image=False, following=False, follow_request_sent=False, notifications=False, translator_type='none'), user=User(_api=<tweepy.api.API object at 0x0000024BD7912C40>, _json={'id': 1051085308874260480, 'id_str': '1051085308874260480', 'name': 'Nitesh Jha', 'screen_name': 'nitesh_jha13', 'location': 'Bihar-Delhi', 'description': 'Journalist|| Curious about #Defence & #Diplomacy|| Right is right, even if everyone is against it, and wrong is wrong, even if everyone is for it.', 'url': None, 'entities': {'description': {'urls': []}}, 'protected': False, 'followers_count': 108, 'friends_count': 179, 'listed_count': 0, 'created_at': 'Sat Oct 13 12:20:40 +0000 2018', 'favourites_count': 3867, 'utc_offset': None, 'time_zone': None, 'geo_enabled': False, 'verified': False, 'statuses_count': 1552, 'lang': None, 'contributors_enabled': False, 'is_translator': False, 'is_translation_enabled': False, 'profile_background_color': 'F5F8FA', 'profile_background_image_url': None, 'profile_background_image_url_https': None, 'profile_background_tile': False, 'profile_image_url': 'http://pbs.twimg.com/profile_images/1265090612090544128/a2zUjyTR_normal.jpg', 'profile_image_url_https': 'https://pbs.twimg.com/profile_images/1265090612090544128/a2zUjyTR_normal.jpg', 'profile_banner_url': 'https://pbs.twimg.com/profile_banners/1051085308874260480/1578878827', 'profile_link_color': '1DA1F2', 'profile_sidebar_border_color': 'C0DEED', 'profile_sidebar_fill_color': 'DDEEF6', 'profile_text_color': '333333', 'profile_use_background_image': True, 'has_extended_profile': True, 'default_profile': True, 'default_profile_image': False, 'following': False, 'follow_request_sent': False, 'notifications': False, 'translator_type': 'none'}, id=1051085308874260480, id_str='1051085308874260480', name='Nitesh Jha', screen_name='nitesh_jha13', location='Bihar-Delhi', description='Journalist|| Curious about #Defence & #Diplomacy|| Right is right, even if everyone is against it, and wrong is wrong, even if everyone is for it.', url=None, entities={'description': {'urls': []}}, protected=False, followers_count=108, friends_count=179, listed_count=0, created_at=datetime.datetime(2018, 10, 13, 12, 20, 40), favourites_count=3867, utc_offset=None, time_zone=None, geo_enabled=False, verified=False, statuses_count=1552, lang=None, contributors_enabled=False, is_translator=False, is_translation_enabled=False, profile_background_color='F5F8FA', profile_background_image_url=None, profile_background_image_url_https=None, profile_background_tile=False, profile_image_url='http://pbs.twimg.com/profile_images/1265090612090544128/a2zUjyTR_normal.jpg', profile_image_url_https='https://pbs.twimg.com/profile_images/1265090612090544128/a2zUjyTR_normal.jpg', profile_banner_url='https://pbs.twimg.com/profile_banners/1051085308874260480/1578878827', profile_link_color='1DA1F2', profile_sidebar_border_color='C0DEED', profile_sidebar_fill_color='DDEEF6', profile_text_color='333333', profile_use_background_image=True, has_extended_profile=True, default_profile=True, default_profile_image=False, following=False, follow_request_sent=False, notifications=False, translator_type='none'), geo=None, coordinates=None, place=None, contributors=None, is_quote_status=False, retweet_count=0, favorite_count=1, favorited=False, retweeted=False, lang='en') \n",
      "\n",
      ".....................................................\n",
      "Status(_api=<tweepy.api.API object at 0x0000024BD7912C40>, _json={'created_at': 'Sun Oct 25 00:11:17 +0000 2020', 'id': 1320155936908963841, 'id_str': '1320155936908963841', 'full_text': '@Nher_who While we have a fair impression on the direction of wind in Bihar, our attention is now needed on a more important election - the MP bypolls. Let not BJP or its bootlicking chamchas manage to win a single seat that they did not win earlier\\n\\n#MPByPoll2020\\n\\nhttps://t.co/bEgLHddq1b', 'truncated': False, 'display_text_range': [10, 289], 'entities': {'hashtags': [{'text': 'MPByPoll2020', 'indices': [251, 264]}], 'symbols': [], 'user_mentions': [{'screen_name': 'Nher_who', 'name': 'Nehr_who?', 'id': 788998565381021696, 'id_str': '788998565381021696', 'indices': [0, 9]}], 'urls': [{'url': 'https://t.co/bEgLHddq1b', 'expanded_url': 'https://news.google.com/articles/CAIiEDFsK5KR8Azn065UubpcMBAqFggEKg4IACoGCAoww7k_MMevCDDpywE?hl=en-IN&gl=IN&ceid=IN%3Aen', 'display_url': 'news.google.com/articles/CAIiE…', 'indices': [266, 289]}]}, 'metadata': {'iso_language_code': 'en', 'result_type': 'recent'}, 'source': '<a href=\"https://mobile.twitter.com\" rel=\"nofollow\">Twitter Web App</a>', 'in_reply_to_status_id': 1320025383647916035, 'in_reply_to_status_id_str': '1320025383647916035', 'in_reply_to_user_id': 788998565381021696, 'in_reply_to_user_id_str': '788998565381021696', 'in_reply_to_screen_name': 'Nher_who', 'user': {'id': 332822437, 'id_str': '332822437', 'name': 'Tathagato Roychoudhury', 'screen_name': 'tathagatorc', 'location': 'New Delhi', 'description': 'Maverick, Rebel with a cause, Free thinker, Activist...', 'url': 'https://t.co/jkyjbU2A7Z', 'entities': {'url': {'urls': [{'url': 'https://t.co/jkyjbU2A7Z', 'expanded_url': 'https://www.facebook.com/tathagatorc', 'display_url': 'facebook.com/tathagatorc', 'indices': [0, 23]}]}, 'description': {'urls': []}}, 'protected': False, 'followers_count': 84, 'friends_count': 93, 'listed_count': 0, 'created_at': 'Sun Jul 10 13:49:09 +0000 2011', 'favourites_count': 1128, 'utc_offset': None, 'time_zone': None, 'geo_enabled': True, 'verified': False, 'statuses_count': 2560, 'lang': None, 'contributors_enabled': False, 'is_translator': False, 'is_translation_enabled': False, 'profile_background_color': 'C0DEED', 'profile_background_image_url': 'http://abs.twimg.com/images/themes/theme1/bg.png', 'profile_background_image_url_https': 'https://abs.twimg.com/images/themes/theme1/bg.png', 'profile_background_tile': False, 'profile_image_url': 'http://pbs.twimg.com/profile_images/1224869396109197312/TIB4wbxi_normal.jpg', 'profile_image_url_https': 'https://pbs.twimg.com/profile_images/1224869396109197312/TIB4wbxi_normal.jpg', 'profile_banner_url': 'https://pbs.twimg.com/profile_banners/332822437/1583725520', 'profile_link_color': '1DA1F2', 'profile_sidebar_border_color': 'C0DEED', 'profile_sidebar_fill_color': 'DDEEF6', 'profile_text_color': '333333', 'profile_use_background_image': True, 'has_extended_profile': False, 'default_profile': True, 'default_profile_image': False, 'following': False, 'follow_request_sent': False, 'notifications': False, 'translator_type': 'none'}, 'geo': None, 'coordinates': None, 'place': None, 'contributors': None, 'is_quote_status': False, 'retweet_count': 0, 'favorite_count': 1, 'favorited': False, 'retweeted': False, 'possibly_sensitive': False, 'lang': 'en'}, created_at=datetime.datetime(2020, 10, 25, 0, 11, 17), id=1320155936908963841, id_str='1320155936908963841', full_text='@Nher_who While we have a fair impression on the direction of wind in Bihar, our attention is now needed on a more important election - the MP bypolls. Let not BJP or its bootlicking chamchas manage to win a single seat that they did not win earlier\\n\\n#MPByPoll2020\\n\\nhttps://t.co/bEgLHddq1b', truncated=False, display_text_range=[10, 289], entities={'hashtags': [{'text': 'MPByPoll2020', 'indices': [251, 264]}], 'symbols': [], 'user_mentions': [{'screen_name': 'Nher_who', 'name': 'Nehr_who?', 'id': 788998565381021696, 'id_str': '788998565381021696', 'indices': [0, 9]}], 'urls': [{'url': 'https://t.co/bEgLHddq1b', 'expanded_url': 'https://news.google.com/articles/CAIiEDFsK5KR8Azn065UubpcMBAqFggEKg4IACoGCAoww7k_MMevCDDpywE?hl=en-IN&gl=IN&ceid=IN%3Aen', 'display_url': 'news.google.com/articles/CAIiE…', 'indices': [266, 289]}]}, metadata={'iso_language_code': 'en', 'result_type': 'recent'}, source='Twitter Web App', source_url='https://mobile.twitter.com', in_reply_to_status_id=1320025383647916035, in_reply_to_status_id_str='1320025383647916035', in_reply_to_user_id=788998565381021696, in_reply_to_user_id_str='788998565381021696', in_reply_to_screen_name='Nher_who', author=User(_api=<tweepy.api.API object at 0x0000024BD7912C40>, _json={'id': 332822437, 'id_str': '332822437', 'name': 'Tathagato Roychoudhury', 'screen_name': 'tathagatorc', 'location': 'New Delhi', 'description': 'Maverick, Rebel with a cause, Free thinker, Activist...', 'url': 'https://t.co/jkyjbU2A7Z', 'entities': {'url': {'urls': [{'url': 'https://t.co/jkyjbU2A7Z', 'expanded_url': 'https://www.facebook.com/tathagatorc', 'display_url': 'facebook.com/tathagatorc', 'indices': [0, 23]}]}, 'description': {'urls': []}}, 'protected': False, 'followers_count': 84, 'friends_count': 93, 'listed_count': 0, 'created_at': 'Sun Jul 10 13:49:09 +0000 2011', 'favourites_count': 1128, 'utc_offset': None, 'time_zone': None, 'geo_enabled': True, 'verified': False, 'statuses_count': 2560, 'lang': None, 'contributors_enabled': False, 'is_translator': False, 'is_translation_enabled': False, 'profile_background_color': 'C0DEED', 'profile_background_image_url': 'http://abs.twimg.com/images/themes/theme1/bg.png', 'profile_background_image_url_https': 'https://abs.twimg.com/images/themes/theme1/bg.png', 'profile_background_tile': False, 'profile_image_url': 'http://pbs.twimg.com/profile_images/1224869396109197312/TIB4wbxi_normal.jpg', 'profile_image_url_https': 'https://pbs.twimg.com/profile_images/1224869396109197312/TIB4wbxi_normal.jpg', 'profile_banner_url': 'https://pbs.twimg.com/profile_banners/332822437/1583725520', 'profile_link_color': '1DA1F2', 'profile_sidebar_border_color': 'C0DEED', 'profile_sidebar_fill_color': 'DDEEF6', 'profile_text_color': '333333', 'profile_use_background_image': True, 'has_extended_profile': False, 'default_profile': True, 'default_profile_image': False, 'following': False, 'follow_request_sent': False, 'notifications': False, 'translator_type': 'none'}, id=332822437, id_str='332822437', name='Tathagato Roychoudhury', screen_name='tathagatorc', location='New Delhi', description='Maverick, Rebel with a cause, Free thinker, Activist...', url='https://t.co/jkyjbU2A7Z', entities={'url': {'urls': [{'url': 'https://t.co/jkyjbU2A7Z', 'expanded_url': 'https://www.facebook.com/tathagatorc', 'display_url': 'facebook.com/tathagatorc', 'indices': [0, 23]}]}, 'description': {'urls': []}}, protected=False, followers_count=84, friends_count=93, listed_count=0, created_at=datetime.datetime(2011, 7, 10, 13, 49, 9), favourites_count=1128, utc_offset=None, time_zone=None, geo_enabled=True, verified=False, statuses_count=2560, lang=None, contributors_enabled=False, is_translator=False, is_translation_enabled=False, profile_background_color='C0DEED', profile_background_image_url='http://abs.twimg.com/images/themes/theme1/bg.png', profile_background_image_url_https='https://abs.twimg.com/images/themes/theme1/bg.png', profile_background_tile=False, profile_image_url='http://pbs.twimg.com/profile_images/1224869396109197312/TIB4wbxi_normal.jpg', profile_image_url_https='https://pbs.twimg.com/profile_images/1224869396109197312/TIB4wbxi_normal.jpg', profile_banner_url='https://pbs.twimg.com/profile_banners/332822437/1583725520', profile_link_color='1DA1F2', profile_sidebar_border_color='C0DEED', profile_sidebar_fill_color='DDEEF6', profile_text_color='333333', profile_use_background_image=True, has_extended_profile=False, default_profile=True, default_profile_image=False, following=False, follow_request_sent=False, notifications=False, translator_type='none'), user=User(_api=<tweepy.api.API object at 0x0000024BD7912C40>, _json={'id': 332822437, 'id_str': '332822437', 'name': 'Tathagato Roychoudhury', 'screen_name': 'tathagatorc', 'location': 'New Delhi', 'description': 'Maverick, Rebel with a cause, Free thinker, Activist...', 'url': 'https://t.co/jkyjbU2A7Z', 'entities': {'url': {'urls': [{'url': 'https://t.co/jkyjbU2A7Z', 'expanded_url': 'https://www.facebook.com/tathagatorc', 'display_url': 'facebook.com/tathagatorc', 'indices': [0, 23]}]}, 'description': {'urls': []}}, 'protected': False, 'followers_count': 84, 'friends_count': 93, 'listed_count': 0, 'created_at': 'Sun Jul 10 13:49:09 +0000 2011', 'favourites_count': 1128, 'utc_offset': None, 'time_zone': None, 'geo_enabled': True, 'verified': False, 'statuses_count': 2560, 'lang': None, 'contributors_enabled': False, 'is_translator': False, 'is_translation_enabled': False, 'profile_background_color': 'C0DEED', 'profile_background_image_url': 'http://abs.twimg.com/images/themes/theme1/bg.png', 'profile_background_image_url_https': 'https://abs.twimg.com/images/themes/theme1/bg.png', 'profile_background_tile': False, 'profile_image_url': 'http://pbs.twimg.com/profile_images/1224869396109197312/TIB4wbxi_normal.jpg', 'profile_image_url_https': 'https://pbs.twimg.com/profile_images/1224869396109197312/TIB4wbxi_normal.jpg', 'profile_banner_url': 'https://pbs.twimg.com/profile_banners/332822437/1583725520', 'profile_link_color': '1DA1F2', 'profile_sidebar_border_color': 'C0DEED', 'profile_sidebar_fill_color': 'DDEEF6', 'profile_text_color': '333333', 'profile_use_background_image': True, 'has_extended_profile': False, 'default_profile': True, 'default_profile_image': False, 'following': False, 'follow_request_sent': False, 'notifications': False, 'translator_type': 'none'}, id=332822437, id_str='332822437', name='Tathagato Roychoudhury', screen_name='tathagatorc', location='New Delhi', description='Maverick, Rebel with a cause, Free thinker, Activist...', url='https://t.co/jkyjbU2A7Z', entities={'url': {'urls': [{'url': 'https://t.co/jkyjbU2A7Z', 'expanded_url': 'https://www.facebook.com/tathagatorc', 'display_url': 'facebook.com/tathagatorc', 'indices': [0, 23]}]}, 'description': {'urls': []}}, protected=False, followers_count=84, friends_count=93, listed_count=0, created_at=datetime.datetime(2011, 7, 10, 13, 49, 9), favourites_count=1128, utc_offset=None, time_zone=None, geo_enabled=True, verified=False, statuses_count=2560, lang=None, contributors_enabled=False, is_translator=False, is_translation_enabled=False, profile_background_color='C0DEED', profile_background_image_url='http://abs.twimg.com/images/themes/theme1/bg.png', profile_background_image_url_https='https://abs.twimg.com/images/themes/theme1/bg.png', profile_background_tile=False, profile_image_url='http://pbs.twimg.com/profile_images/1224869396109197312/TIB4wbxi_normal.jpg', profile_image_url_https='https://pbs.twimg.com/profile_images/1224869396109197312/TIB4wbxi_normal.jpg', profile_banner_url='https://pbs.twimg.com/profile_banners/332822437/1583725520', profile_link_color='1DA1F2', profile_sidebar_border_color='C0DEED', profile_sidebar_fill_color='DDEEF6', profile_text_color='333333', profile_use_background_image=True, has_extended_profile=False, default_profile=True, default_profile_image=False, following=False, follow_request_sent=False, notifications=False, translator_type='none'), geo=None, coordinates=None, place=None, contributors=None, is_quote_status=False, retweet_count=0, favorite_count=1, favorited=False, retweeted=False, possibly_sensitive=False, lang='en') \n",
      "\n",
      ".....................................................\n",
      "Status(_api=<tweepy.api.API object at 0x0000024BD7912C40>, _json={'created_at': 'Sat Oct 24 05:26:30 +0000 2020', 'id': 1319872878259531776, 'id_str': '1319872878259531776', 'full_text': 'One who will do maximum development work in Bihar will get victory in the coming Bihar 2020 election ,Cm Nitish ji has done lots of development work in Bihar ,people of Bihar know this ,he will win the election ,Nda will be victorious this time also on the basis of lots of', 'truncated': False, 'display_text_range': [0, 273], 'entities': {'hashtags': [], 'symbols': [], 'user_mentions': [], 'urls': []}, 'metadata': {'iso_language_code': 'en', 'result_type': 'recent'}, 'source': '<a href=\"http://twitter.com/download/android\" rel=\"nofollow\">Twitter for Android</a>', 'in_reply_to_status_id': None, 'in_reply_to_status_id_str': None, 'in_reply_to_user_id': None, 'in_reply_to_user_id_str': None, 'in_reply_to_screen_name': None, 'user': {'id': 457627772, 'id_str': '457627772', 'name': 'vijay narain prasad', 'screen_name': 'VijayBseb', 'location': 'India', 'description': '', 'url': None, 'entities': {'description': {'urls': []}}, 'protected': False, 'followers_count': 0, 'friends_count': 15, 'listed_count': 0, 'created_at': 'Sat Jan 07 16:45:21 +0000 2012', 'favourites_count': 23, 'utc_offset': None, 'time_zone': None, 'geo_enabled': False, 'verified': False, 'statuses_count': 928, 'lang': None, 'contributors_enabled': False, 'is_translator': False, 'is_translation_enabled': False, 'profile_background_color': 'C0DEED', 'profile_background_image_url': 'http://abs.twimg.com/images/themes/theme1/bg.png', 'profile_background_image_url_https': 'https://abs.twimg.com/images/themes/theme1/bg.png', 'profile_background_tile': False, 'profile_image_url': 'http://pbs.twimg.com/profile_images/1740594492/IMG_1037_normal.jpg', 'profile_image_url_https': 'https://pbs.twimg.com/profile_images/1740594492/IMG_1037_normal.jpg', 'profile_link_color': '1DA1F2', 'profile_sidebar_border_color': 'C0DEED', 'profile_sidebar_fill_color': 'DDEEF6', 'profile_text_color': '333333', 'profile_use_background_image': True, 'has_extended_profile': False, 'default_profile': True, 'default_profile_image': False, 'following': False, 'follow_request_sent': False, 'notifications': False, 'translator_type': 'none'}, 'geo': None, 'coordinates': None, 'place': None, 'contributors': None, 'is_quote_status': False, 'retweet_count': 0, 'favorite_count': 0, 'favorited': False, 'retweeted': False, 'lang': 'en'}, created_at=datetime.datetime(2020, 10, 24, 5, 26, 30), id=1319872878259531776, id_str='1319872878259531776', full_text='One who will do maximum development work in Bihar will get victory in the coming Bihar 2020 election ,Cm Nitish ji has done lots of development work in Bihar ,people of Bihar know this ,he will win the election ,Nda will be victorious this time also on the basis of lots of', truncated=False, display_text_range=[0, 273], entities={'hashtags': [], 'symbols': [], 'user_mentions': [], 'urls': []}, metadata={'iso_language_code': 'en', 'result_type': 'recent'}, source='Twitter for Android', source_url='http://twitter.com/download/android', in_reply_to_status_id=None, in_reply_to_status_id_str=None, in_reply_to_user_id=None, in_reply_to_user_id_str=None, in_reply_to_screen_name=None, author=User(_api=<tweepy.api.API object at 0x0000024BD7912C40>, _json={'id': 457627772, 'id_str': '457627772', 'name': 'vijay narain prasad', 'screen_name': 'VijayBseb', 'location': 'India', 'description': '', 'url': None, 'entities': {'description': {'urls': []}}, 'protected': False, 'followers_count': 0, 'friends_count': 15, 'listed_count': 0, 'created_at': 'Sat Jan 07 16:45:21 +0000 2012', 'favourites_count': 23, 'utc_offset': None, 'time_zone': None, 'geo_enabled': False, 'verified': False, 'statuses_count': 928, 'lang': None, 'contributors_enabled': False, 'is_translator': False, 'is_translation_enabled': False, 'profile_background_color': 'C0DEED', 'profile_background_image_url': 'http://abs.twimg.com/images/themes/theme1/bg.png', 'profile_background_image_url_https': 'https://abs.twimg.com/images/themes/theme1/bg.png', 'profile_background_tile': False, 'profile_image_url': 'http://pbs.twimg.com/profile_images/1740594492/IMG_1037_normal.jpg', 'profile_image_url_https': 'https://pbs.twimg.com/profile_images/1740594492/IMG_1037_normal.jpg', 'profile_link_color': '1DA1F2', 'profile_sidebar_border_color': 'C0DEED', 'profile_sidebar_fill_color': 'DDEEF6', 'profile_text_color': '333333', 'profile_use_background_image': True, 'has_extended_profile': False, 'default_profile': True, 'default_profile_image': False, 'following': False, 'follow_request_sent': False, 'notifications': False, 'translator_type': 'none'}, id=457627772, id_str='457627772', name='vijay narain prasad', screen_name='VijayBseb', location='India', description='', url=None, entities={'description': {'urls': []}}, protected=False, followers_count=0, friends_count=15, listed_count=0, created_at=datetime.datetime(2012, 1, 7, 16, 45, 21), favourites_count=23, utc_offset=None, time_zone=None, geo_enabled=False, verified=False, statuses_count=928, lang=None, contributors_enabled=False, is_translator=False, is_translation_enabled=False, profile_background_color='C0DEED', profile_background_image_url='http://abs.twimg.com/images/themes/theme1/bg.png', profile_background_image_url_https='https://abs.twimg.com/images/themes/theme1/bg.png', profile_background_tile=False, profile_image_url='http://pbs.twimg.com/profile_images/1740594492/IMG_1037_normal.jpg', profile_image_url_https='https://pbs.twimg.com/profile_images/1740594492/IMG_1037_normal.jpg', profile_link_color='1DA1F2', profile_sidebar_border_color='C0DEED', profile_sidebar_fill_color='DDEEF6', profile_text_color='333333', profile_use_background_image=True, has_extended_profile=False, default_profile=True, default_profile_image=False, following=False, follow_request_sent=False, notifications=False, translator_type='none'), user=User(_api=<tweepy.api.API object at 0x0000024BD7912C40>, _json={'id': 457627772, 'id_str': '457627772', 'name': 'vijay narain prasad', 'screen_name': 'VijayBseb', 'location': 'India', 'description': '', 'url': None, 'entities': {'description': {'urls': []}}, 'protected': False, 'followers_count': 0, 'friends_count': 15, 'listed_count': 0, 'created_at': 'Sat Jan 07 16:45:21 +0000 2012', 'favourites_count': 23, 'utc_offset': None, 'time_zone': None, 'geo_enabled': False, 'verified': False, 'statuses_count': 928, 'lang': None, 'contributors_enabled': False, 'is_translator': False, 'is_translation_enabled': False, 'profile_background_color': 'C0DEED', 'profile_background_image_url': 'http://abs.twimg.com/images/themes/theme1/bg.png', 'profile_background_image_url_https': 'https://abs.twimg.com/images/themes/theme1/bg.png', 'profile_background_tile': False, 'profile_image_url': 'http://pbs.twimg.com/profile_images/1740594492/IMG_1037_normal.jpg', 'profile_image_url_https': 'https://pbs.twimg.com/profile_images/1740594492/IMG_1037_normal.jpg', 'profile_link_color': '1DA1F2', 'profile_sidebar_border_color': 'C0DEED', 'profile_sidebar_fill_color': 'DDEEF6', 'profile_text_color': '333333', 'profile_use_background_image': True, 'has_extended_profile': False, 'default_profile': True, 'default_profile_image': False, 'following': False, 'follow_request_sent': False, 'notifications': False, 'translator_type': 'none'}, id=457627772, id_str='457627772', name='vijay narain prasad', screen_name='VijayBseb', location='India', description='', url=None, entities={'description': {'urls': []}}, protected=False, followers_count=0, friends_count=15, listed_count=0, created_at=datetime.datetime(2012, 1, 7, 16, 45, 21), favourites_count=23, utc_offset=None, time_zone=None, geo_enabled=False, verified=False, statuses_count=928, lang=None, contributors_enabled=False, is_translator=False, is_translation_enabled=False, profile_background_color='C0DEED', profile_background_image_url='http://abs.twimg.com/images/themes/theme1/bg.png', profile_background_image_url_https='https://abs.twimg.com/images/themes/theme1/bg.png', profile_background_tile=False, profile_image_url='http://pbs.twimg.com/profile_images/1740594492/IMG_1037_normal.jpg', profile_image_url_https='https://pbs.twimg.com/profile_images/1740594492/IMG_1037_normal.jpg', profile_link_color='1DA1F2', profile_sidebar_border_color='C0DEED', profile_sidebar_fill_color='DDEEF6', profile_text_color='333333', profile_use_background_image=True, has_extended_profile=False, default_profile=True, default_profile_image=False, following=False, follow_request_sent=False, notifications=False, translator_type='none'), geo=None, coordinates=None, place=None, contributors=None, is_quote_status=False, retweet_count=0, favorite_count=0, favorited=False, retweeted=False, lang='en') \n",
      "\n",
      ".....................................................\n",
      "Status(_api=<tweepy.api.API object at 0x0000024BD7912C40>, _json={'created_at': 'Fri Oct 23 05:31:49 +0000 2020', 'id': 1319511828171423747, 'id_str': '1319511828171423747', 'full_text': 'Who will win bihar vidhansabha election-2020?\\n\\nKindly vote here!!!', 'truncated': False, 'display_text_range': [0, 66], 'entities': {'hashtags': [], 'symbols': [], 'user_mentions': [], 'urls': []}, 'metadata': {'iso_language_code': 'en', 'result_type': 'recent'}, 'source': '<a href=\"http://twitter.com/download/android\" rel=\"nofollow\">Twitter for Android</a>', 'in_reply_to_status_id': None, 'in_reply_to_status_id_str': None, 'in_reply_to_user_id': None, 'in_reply_to_user_id_str': None, 'in_reply_to_screen_name': None, 'user': {'id': 1220338642834472960, 'id_str': '1220338642834472960', 'name': 'Priya S Bhimani', 'screen_name': 'tweet_to_priya', 'location': 'Gujarat, India', 'description': 'Passionate.\\nanother proud Indian🇮🇳.\\n\\n\\n\\n\\n\\n\\n\\n\\n\\n\\n\\n\\n\\n\\n\\n\\n\\ndreamer | learner | obsesser |observer | reader📘.\\n\\n\\n\\n\\n\\n\\n\\n\\n\\n\\n\\n\\n\\n(Views are personal)', 'url': None, 'entities': {'description': {'urls': []}}, 'protected': False, 'followers_count': 58, 'friends_count': 197, 'listed_count': 0, 'created_at': 'Thu Jan 23 13:33:17 +0000 2020', 'favourites_count': 6554, 'utc_offset': None, 'time_zone': None, 'geo_enabled': False, 'verified': False, 'statuses_count': 198, 'lang': None, 'contributors_enabled': False, 'is_translator': False, 'is_translation_enabled': False, 'profile_background_color': 'F5F8FA', 'profile_background_image_url': None, 'profile_background_image_url_https': None, 'profile_background_tile': False, 'profile_image_url': 'http://pbs.twimg.com/profile_images/1314622267079290881/diU8liRF_normal.jpg', 'profile_image_url_https': 'https://pbs.twimg.com/profile_images/1314622267079290881/diU8liRF_normal.jpg', 'profile_banner_url': 'https://pbs.twimg.com/profile_banners/1220338642834472960/1599672537', 'profile_link_color': '1DA1F2', 'profile_sidebar_border_color': 'C0DEED', 'profile_sidebar_fill_color': 'DDEEF6', 'profile_text_color': '333333', 'profile_use_background_image': True, 'has_extended_profile': True, 'default_profile': True, 'default_profile_image': False, 'following': False, 'follow_request_sent': False, 'notifications': False, 'translator_type': 'none'}, 'geo': None, 'coordinates': None, 'place': None, 'contributors': None, 'is_quote_status': False, 'retweet_count': 0, 'favorite_count': 1, 'favorited': False, 'retweeted': False, 'lang': 'en'}, created_at=datetime.datetime(2020, 10, 23, 5, 31, 49), id=1319511828171423747, id_str='1319511828171423747', full_text='Who will win bihar vidhansabha election-2020?\\n\\nKindly vote here!!!', truncated=False, display_text_range=[0, 66], entities={'hashtags': [], 'symbols': [], 'user_mentions': [], 'urls': []}, metadata={'iso_language_code': 'en', 'result_type': 'recent'}, source='Twitter for Android', source_url='http://twitter.com/download/android', in_reply_to_status_id=None, in_reply_to_status_id_str=None, in_reply_to_user_id=None, in_reply_to_user_id_str=None, in_reply_to_screen_name=None, author=User(_api=<tweepy.api.API object at 0x0000024BD7912C40>, _json={'id': 1220338642834472960, 'id_str': '1220338642834472960', 'name': 'Priya S Bhimani', 'screen_name': 'tweet_to_priya', 'location': 'Gujarat, India', 'description': 'Passionate.\\nanother proud Indian🇮🇳.\\n\\n\\n\\n\\n\\n\\n\\n\\n\\n\\n\\n\\n\\n\\n\\n\\n\\ndreamer | learner | obsesser |observer | reader📘.\\n\\n\\n\\n\\n\\n\\n\\n\\n\\n\\n\\n\\n\\n(Views are personal)', 'url': None, 'entities': {'description': {'urls': []}}, 'protected': False, 'followers_count': 58, 'friends_count': 197, 'listed_count': 0, 'created_at': 'Thu Jan 23 13:33:17 +0000 2020', 'favourites_count': 6554, 'utc_offset': None, 'time_zone': None, 'geo_enabled': False, 'verified': False, 'statuses_count': 198, 'lang': None, 'contributors_enabled': False, 'is_translator': False, 'is_translation_enabled': False, 'profile_background_color': 'F5F8FA', 'profile_background_image_url': None, 'profile_background_image_url_https': None, 'profile_background_tile': False, 'profile_image_url': 'http://pbs.twimg.com/profile_images/1314622267079290881/diU8liRF_normal.jpg', 'profile_image_url_https': 'https://pbs.twimg.com/profile_images/1314622267079290881/diU8liRF_normal.jpg', 'profile_banner_url': 'https://pbs.twimg.com/profile_banners/1220338642834472960/1599672537', 'profile_link_color': '1DA1F2', 'profile_sidebar_border_color': 'C0DEED', 'profile_sidebar_fill_color': 'DDEEF6', 'profile_text_color': '333333', 'profile_use_background_image': True, 'has_extended_profile': True, 'default_profile': True, 'default_profile_image': False, 'following': False, 'follow_request_sent': False, 'notifications': False, 'translator_type': 'none'}, id=1220338642834472960, id_str='1220338642834472960', name='Priya S Bhimani', screen_name='tweet_to_priya', location='Gujarat, India', description='Passionate.\\nanother proud Indian🇮🇳.\\n\\n\\n\\n\\n\\n\\n\\n\\n\\n\\n\\n\\n\\n\\n\\n\\n\\ndreamer | learner | obsesser |observer | reader📘.\\n\\n\\n\\n\\n\\n\\n\\n\\n\\n\\n\\n\\n\\n(Views are personal)', url=None, entities={'description': {'urls': []}}, protected=False, followers_count=58, friends_count=197, listed_count=0, created_at=datetime.datetime(2020, 1, 23, 13, 33, 17), favourites_count=6554, utc_offset=None, time_zone=None, geo_enabled=False, verified=False, statuses_count=198, lang=None, contributors_enabled=False, is_translator=False, is_translation_enabled=False, profile_background_color='F5F8FA', profile_background_image_url=None, profile_background_image_url_https=None, profile_background_tile=False, profile_image_url='http://pbs.twimg.com/profile_images/1314622267079290881/diU8liRF_normal.jpg', profile_image_url_https='https://pbs.twimg.com/profile_images/1314622267079290881/diU8liRF_normal.jpg', profile_banner_url='https://pbs.twimg.com/profile_banners/1220338642834472960/1599672537', profile_link_color='1DA1F2', profile_sidebar_border_color='C0DEED', profile_sidebar_fill_color='DDEEF6', profile_text_color='333333', profile_use_background_image=True, has_extended_profile=True, default_profile=True, default_profile_image=False, following=False, follow_request_sent=False, notifications=False, translator_type='none'), user=User(_api=<tweepy.api.API object at 0x0000024BD7912C40>, _json={'id': 1220338642834472960, 'id_str': '1220338642834472960', 'name': 'Priya S Bhimani', 'screen_name': 'tweet_to_priya', 'location': 'Gujarat, India', 'description': 'Passionate.\\nanother proud Indian🇮🇳.\\n\\n\\n\\n\\n\\n\\n\\n\\n\\n\\n\\n\\n\\n\\n\\n\\n\\ndreamer | learner | obsesser |observer | reader📘.\\n\\n\\n\\n\\n\\n\\n\\n\\n\\n\\n\\n\\n\\n(Views are personal)', 'url': None, 'entities': {'description': {'urls': []}}, 'protected': False, 'followers_count': 58, 'friends_count': 197, 'listed_count': 0, 'created_at': 'Thu Jan 23 13:33:17 +0000 2020', 'favourites_count': 6554, 'utc_offset': None, 'time_zone': None, 'geo_enabled': False, 'verified': False, 'statuses_count': 198, 'lang': None, 'contributors_enabled': False, 'is_translator': False, 'is_translation_enabled': False, 'profile_background_color': 'F5F8FA', 'profile_background_image_url': None, 'profile_background_image_url_https': None, 'profile_background_tile': False, 'profile_image_url': 'http://pbs.twimg.com/profile_images/1314622267079290881/diU8liRF_normal.jpg', 'profile_image_url_https': 'https://pbs.twimg.com/profile_images/1314622267079290881/diU8liRF_normal.jpg', 'profile_banner_url': 'https://pbs.twimg.com/profile_banners/1220338642834472960/1599672537', 'profile_link_color': '1DA1F2', 'profile_sidebar_border_color': 'C0DEED', 'profile_sidebar_fill_color': 'DDEEF6', 'profile_text_color': '333333', 'profile_use_background_image': True, 'has_extended_profile': True, 'default_profile': True, 'default_profile_image': False, 'following': False, 'follow_request_sent': False, 'notifications': False, 'translator_type': 'none'}, id=1220338642834472960, id_str='1220338642834472960', name='Priya S Bhimani', screen_name='tweet_to_priya', location='Gujarat, India', description='Passionate.\\nanother proud Indian🇮🇳.\\n\\n\\n\\n\\n\\n\\n\\n\\n\\n\\n\\n\\n\\n\\n\\n\\n\\ndreamer | learner | obsesser |observer | reader📘.\\n\\n\\n\\n\\n\\n\\n\\n\\n\\n\\n\\n\\n\\n(Views are personal)', url=None, entities={'description': {'urls': []}}, protected=False, followers_count=58, friends_count=197, listed_count=0, created_at=datetime.datetime(2020, 1, 23, 13, 33, 17), favourites_count=6554, utc_offset=None, time_zone=None, geo_enabled=False, verified=False, statuses_count=198, lang=None, contributors_enabled=False, is_translator=False, is_translation_enabled=False, profile_background_color='F5F8FA', profile_background_image_url=None, profile_background_image_url_https=None, profile_background_tile=False, profile_image_url='http://pbs.twimg.com/profile_images/1314622267079290881/diU8liRF_normal.jpg', profile_image_url_https='https://pbs.twimg.com/profile_images/1314622267079290881/diU8liRF_normal.jpg', profile_banner_url='https://pbs.twimg.com/profile_banners/1220338642834472960/1599672537', profile_link_color='1DA1F2', profile_sidebar_border_color='C0DEED', profile_sidebar_fill_color='DDEEF6', profile_text_color='333333', profile_use_background_image=True, has_extended_profile=True, default_profile=True, default_profile_image=False, following=False, follow_request_sent=False, notifications=False, translator_type='none'), geo=None, coordinates=None, place=None, contributors=None, is_quote_status=False, retweet_count=0, favorite_count=1, favorited=False, retweeted=False, lang='en') \n",
      "\n",
      ".....................................................\n",
      "Status(_api=<tweepy.api.API object at 0x0000024BD7912C40>, _json={'created_at': 'Thu Oct 22 14:28:45 +0000 2020', 'id': 1319284563080744964, 'id_str': '1319284563080744964', 'full_text': '#BiharElections \\nWho Will Win in Bihar Election 2020 ?\\n#BiharPolls', 'truncated': False, 'display_text_range': [0, 66], 'entities': {'hashtags': [{'text': 'BiharElections', 'indices': [0, 15]}, {'text': 'BiharPolls', 'indices': [55, 66]}], 'symbols': [], 'user_mentions': [], 'urls': []}, 'metadata': {'iso_language_code': 'en', 'result_type': 'recent'}, 'source': '<a href=\"http://twitter.com/download/android\" rel=\"nofollow\">Twitter for Android</a>', 'in_reply_to_status_id': None, 'in_reply_to_status_id_str': None, 'in_reply_to_user_id': None, 'in_reply_to_user_id_str': None, 'in_reply_to_screen_name': None, 'user': {'id': 1126030804314812417, 'id_str': '1126030804314812417', 'name': 'SATYAM SAURABH', 'screen_name': 'i_satyamsaurabh', 'location': 'MUZAFFARPUR, Bihar, INDIA', 'description': 'I’m unique,Social Blogger\\n Believe in Nationalism and Hinduism.\\nPlease Subscribe to My Youtube Channel https://t.co/WdD7oDwj3a', 'url': 'https://t.co/WdD7oDwj3a', 'entities': {'url': {'urls': [{'url': 'https://t.co/WdD7oDwj3a', 'expanded_url': 'https://www.youtube.com/channel/UCXkKDyGCdXDYwoZj2wWf-3A', 'display_url': 'youtube.com/channel/UCXkKD…', 'indices': [0, 23]}]}, 'description': {'urls': [{'url': 'https://t.co/WdD7oDwj3a', 'expanded_url': 'https://www.youtube.com/channel/UCXkKDyGCdXDYwoZj2wWf-3A', 'display_url': 'youtube.com/channel/UCXkKD…', 'indices': [103, 126]}]}}, 'protected': False, 'followers_count': 1250, 'friends_count': 1239, 'listed_count': 0, 'created_at': 'Wed May 08 07:47:19 +0000 2019', 'favourites_count': 4171, 'utc_offset': None, 'time_zone': None, 'geo_enabled': False, 'verified': False, 'statuses_count': 2199, 'lang': None, 'contributors_enabled': False, 'is_translator': False, 'is_translation_enabled': False, 'profile_background_color': 'F5F8FA', 'profile_background_image_url': None, 'profile_background_image_url_https': None, 'profile_background_tile': False, 'profile_image_url': 'http://pbs.twimg.com/profile_images/1319572469880025089/BwbAHEml_normal.jpg', 'profile_image_url_https': 'https://pbs.twimg.com/profile_images/1319572469880025089/BwbAHEml_normal.jpg', 'profile_banner_url': 'https://pbs.twimg.com/profile_banners/1126030804314812417/1600419943', 'profile_link_color': '1DA1F2', 'profile_sidebar_border_color': 'C0DEED', 'profile_sidebar_fill_color': 'DDEEF6', 'profile_text_color': '333333', 'profile_use_background_image': True, 'has_extended_profile': True, 'default_profile': True, 'default_profile_image': False, 'following': False, 'follow_request_sent': False, 'notifications': False, 'translator_type': 'none'}, 'geo': None, 'coordinates': None, 'place': None, 'contributors': None, 'is_quote_status': False, 'retweet_count': 0, 'favorite_count': 6, 'favorited': False, 'retweeted': False, 'lang': 'en'}, created_at=datetime.datetime(2020, 10, 22, 14, 28, 45), id=1319284563080744964, id_str='1319284563080744964', full_text='#BiharElections \\nWho Will Win in Bihar Election 2020 ?\\n#BiharPolls', truncated=False, display_text_range=[0, 66], entities={'hashtags': [{'text': 'BiharElections', 'indices': [0, 15]}, {'text': 'BiharPolls', 'indices': [55, 66]}], 'symbols': [], 'user_mentions': [], 'urls': []}, metadata={'iso_language_code': 'en', 'result_type': 'recent'}, source='Twitter for Android', source_url='http://twitter.com/download/android', in_reply_to_status_id=None, in_reply_to_status_id_str=None, in_reply_to_user_id=None, in_reply_to_user_id_str=None, in_reply_to_screen_name=None, author=User(_api=<tweepy.api.API object at 0x0000024BD7912C40>, _json={'id': 1126030804314812417, 'id_str': '1126030804314812417', 'name': 'SATYAM SAURABH', 'screen_name': 'i_satyamsaurabh', 'location': 'MUZAFFARPUR, Bihar, INDIA', 'description': 'I’m unique,Social Blogger\\n Believe in Nationalism and Hinduism.\\nPlease Subscribe to My Youtube Channel https://t.co/WdD7oDwj3a', 'url': 'https://t.co/WdD7oDwj3a', 'entities': {'url': {'urls': [{'url': 'https://t.co/WdD7oDwj3a', 'expanded_url': 'https://www.youtube.com/channel/UCXkKDyGCdXDYwoZj2wWf-3A', 'display_url': 'youtube.com/channel/UCXkKD…', 'indices': [0, 23]}]}, 'description': {'urls': [{'url': 'https://t.co/WdD7oDwj3a', 'expanded_url': 'https://www.youtube.com/channel/UCXkKDyGCdXDYwoZj2wWf-3A', 'display_url': 'youtube.com/channel/UCXkKD…', 'indices': [103, 126]}]}}, 'protected': False, 'followers_count': 1250, 'friends_count': 1239, 'listed_count': 0, 'created_at': 'Wed May 08 07:47:19 +0000 2019', 'favourites_count': 4171, 'utc_offset': None, 'time_zone': None, 'geo_enabled': False, 'verified': False, 'statuses_count': 2199, 'lang': None, 'contributors_enabled': False, 'is_translator': False, 'is_translation_enabled': False, 'profile_background_color': 'F5F8FA', 'profile_background_image_url': None, 'profile_background_image_url_https': None, 'profile_background_tile': False, 'profile_image_url': 'http://pbs.twimg.com/profile_images/1319572469880025089/BwbAHEml_normal.jpg', 'profile_image_url_https': 'https://pbs.twimg.com/profile_images/1319572469880025089/BwbAHEml_normal.jpg', 'profile_banner_url': 'https://pbs.twimg.com/profile_banners/1126030804314812417/1600419943', 'profile_link_color': '1DA1F2', 'profile_sidebar_border_color': 'C0DEED', 'profile_sidebar_fill_color': 'DDEEF6', 'profile_text_color': '333333', 'profile_use_background_image': True, 'has_extended_profile': True, 'default_profile': True, 'default_profile_image': False, 'following': False, 'follow_request_sent': False, 'notifications': False, 'translator_type': 'none'}, id=1126030804314812417, id_str='1126030804314812417', name='SATYAM SAURABH', screen_name='i_satyamsaurabh', location='MUZAFFARPUR, Bihar, INDIA', description='I’m unique,Social Blogger\\n Believe in Nationalism and Hinduism.\\nPlease Subscribe to My Youtube Channel https://t.co/WdD7oDwj3a', url='https://t.co/WdD7oDwj3a', entities={'url': {'urls': [{'url': 'https://t.co/WdD7oDwj3a', 'expanded_url': 'https://www.youtube.com/channel/UCXkKDyGCdXDYwoZj2wWf-3A', 'display_url': 'youtube.com/channel/UCXkKD…', 'indices': [0, 23]}]}, 'description': {'urls': [{'url': 'https://t.co/WdD7oDwj3a', 'expanded_url': 'https://www.youtube.com/channel/UCXkKDyGCdXDYwoZj2wWf-3A', 'display_url': 'youtube.com/channel/UCXkKD…', 'indices': [103, 126]}]}}, protected=False, followers_count=1250, friends_count=1239, listed_count=0, created_at=datetime.datetime(2019, 5, 8, 7, 47, 19), favourites_count=4171, utc_offset=None, time_zone=None, geo_enabled=False, verified=False, statuses_count=2199, lang=None, contributors_enabled=False, is_translator=False, is_translation_enabled=False, profile_background_color='F5F8FA', profile_background_image_url=None, profile_background_image_url_https=None, profile_background_tile=False, profile_image_url='http://pbs.twimg.com/profile_images/1319572469880025089/BwbAHEml_normal.jpg', profile_image_url_https='https://pbs.twimg.com/profile_images/1319572469880025089/BwbAHEml_normal.jpg', profile_banner_url='https://pbs.twimg.com/profile_banners/1126030804314812417/1600419943', profile_link_color='1DA1F2', profile_sidebar_border_color='C0DEED', profile_sidebar_fill_color='DDEEF6', profile_text_color='333333', profile_use_background_image=True, has_extended_profile=True, default_profile=True, default_profile_image=False, following=False, follow_request_sent=False, notifications=False, translator_type='none'), user=User(_api=<tweepy.api.API object at 0x0000024BD7912C40>, _json={'id': 1126030804314812417, 'id_str': '1126030804314812417', 'name': 'SATYAM SAURABH', 'screen_name': 'i_satyamsaurabh', 'location': 'MUZAFFARPUR, Bihar, INDIA', 'description': 'I’m unique,Social Blogger\\n Believe in Nationalism and Hinduism.\\nPlease Subscribe to My Youtube Channel https://t.co/WdD7oDwj3a', 'url': 'https://t.co/WdD7oDwj3a', 'entities': {'url': {'urls': [{'url': 'https://t.co/WdD7oDwj3a', 'expanded_url': 'https://www.youtube.com/channel/UCXkKDyGCdXDYwoZj2wWf-3A', 'display_url': 'youtube.com/channel/UCXkKD…', 'indices': [0, 23]}]}, 'description': {'urls': [{'url': 'https://t.co/WdD7oDwj3a', 'expanded_url': 'https://www.youtube.com/channel/UCXkKDyGCdXDYwoZj2wWf-3A', 'display_url': 'youtube.com/channel/UCXkKD…', 'indices': [103, 126]}]}}, 'protected': False, 'followers_count': 1250, 'friends_count': 1239, 'listed_count': 0, 'created_at': 'Wed May 08 07:47:19 +0000 2019', 'favourites_count': 4171, 'utc_offset': None, 'time_zone': None, 'geo_enabled': False, 'verified': False, 'statuses_count': 2199, 'lang': None, 'contributors_enabled': False, 'is_translator': False, 'is_translation_enabled': False, 'profile_background_color': 'F5F8FA', 'profile_background_image_url': None, 'profile_background_image_url_https': None, 'profile_background_tile': False, 'profile_image_url': 'http://pbs.twimg.com/profile_images/1319572469880025089/BwbAHEml_normal.jpg', 'profile_image_url_https': 'https://pbs.twimg.com/profile_images/1319572469880025089/BwbAHEml_normal.jpg', 'profile_banner_url': 'https://pbs.twimg.com/profile_banners/1126030804314812417/1600419943', 'profile_link_color': '1DA1F2', 'profile_sidebar_border_color': 'C0DEED', 'profile_sidebar_fill_color': 'DDEEF6', 'profile_text_color': '333333', 'profile_use_background_image': True, 'has_extended_profile': True, 'default_profile': True, 'default_profile_image': False, 'following': False, 'follow_request_sent': False, 'notifications': False, 'translator_type': 'none'}, id=1126030804314812417, id_str='1126030804314812417', name='SATYAM SAURABH', screen_name='i_satyamsaurabh', location='MUZAFFARPUR, Bihar, INDIA', description='I’m unique,Social Blogger\\n Believe in Nationalism and Hinduism.\\nPlease Subscribe to My Youtube Channel https://t.co/WdD7oDwj3a', url='https://t.co/WdD7oDwj3a', entities={'url': {'urls': [{'url': 'https://t.co/WdD7oDwj3a', 'expanded_url': 'https://www.youtube.com/channel/UCXkKDyGCdXDYwoZj2wWf-3A', 'display_url': 'youtube.com/channel/UCXkKD…', 'indices': [0, 23]}]}, 'description': {'urls': [{'url': 'https://t.co/WdD7oDwj3a', 'expanded_url': 'https://www.youtube.com/channel/UCXkKDyGCdXDYwoZj2wWf-3A', 'display_url': 'youtube.com/channel/UCXkKD…', 'indices': [103, 126]}]}}, protected=False, followers_count=1250, friends_count=1239, listed_count=0, created_at=datetime.datetime(2019, 5, 8, 7, 47, 19), favourites_count=4171, utc_offset=None, time_zone=None, geo_enabled=False, verified=False, statuses_count=2199, lang=None, contributors_enabled=False, is_translator=False, is_translation_enabled=False, profile_background_color='F5F8FA', profile_background_image_url=None, profile_background_image_url_https=None, profile_background_tile=False, profile_image_url='http://pbs.twimg.com/profile_images/1319572469880025089/BwbAHEml_normal.jpg', profile_image_url_https='https://pbs.twimg.com/profile_images/1319572469880025089/BwbAHEml_normal.jpg', profile_banner_url='https://pbs.twimg.com/profile_banners/1126030804314812417/1600419943', profile_link_color='1DA1F2', profile_sidebar_border_color='C0DEED', profile_sidebar_fill_color='DDEEF6', profile_text_color='333333', profile_use_background_image=True, has_extended_profile=True, default_profile=True, default_profile_image=False, following=False, follow_request_sent=False, notifications=False, translator_type='none'), geo=None, coordinates=None, place=None, contributors=None, is_quote_status=False, retweet_count=0, favorite_count=6, favorited=False, retweeted=False, lang='en') \n",
      "\n",
      ".....................................................\n"
     ]
    }
   ],
   "source": [
    "Tweets = api.search(query, count=10, lang='en', exclude = 'retweets', tweet_mode='extended')\n",
    "\n",
    "for tweet in Tweets:\n",
    "    print(tweet,'\\n')\n",
    "    print('.....................................................')"
   ]
  },
  {
   "cell_type": "code",
   "execution_count": 13,
   "metadata": {},
   "outputs": [
    {
     "name": "stdout",
     "output_type": "stream",
     "text": [
      "Empty DataFrame\n",
      "Columns: [Tweets, User, User_statuses_count, user_followers, User_location, User_verified, fav_count, rt_count, tweet_date]\n",
      "Index: []\n",
      "(0, 9)\n"
     ]
    }
   ],
   "source": [
    "df = pd.DataFrame(columns = ['Tweets', 'User', 'User_statuses_count',\n",
    "                             'user_followers', 'User_location', 'User_verified',\n",
    "                             'fav_count', 'rt_count', 'tweet_date'])\n",
    "print(df)\n",
    "print(df.shape)"
   ]
  },
  {
   "cell_type": "code",
   "execution_count": 20,
   "metadata": {},
   "outputs": [],
   "source": [
    "def stream(data, file_name):\n",
    "    i = 0\n",
    "    for tweet in tweepy.Cursor(api.search, q = data, count = 100, lang='en').items():\n",
    "        print(i, end='\\r')\n",
    "        df.loc[i, 'Tweets'] = tweet.text\n",
    "        df.loc[i, 'User'] =  tweet.user.name\n",
    "        df.loc[i, 'User_statuses_count'] = tweet.user.statuses_count\n",
    "        df.loc[i, 'user_followers'] = tweet.user.followers_count\n",
    "        df.loc[i, 'User_location'] = tweet.user.location\n",
    "        df.loc[i, 'User_verified'] = tweet.user.verified\n",
    "        df.loc[i, 'fav_count'] = tweet.favorite_count\n",
    "        df.loc[i, 'rt_count'] = tweet.retweet_count\n",
    "        df.loc[i, 'tweet_date'] = tweet.created_at\n",
    "        \n",
    "        df.to_excel('{}.xlsx'.format(file_name))\n",
    "        i = i + 1\n",
    "        if i == 1000:\n",
    "            break\n",
    "            \n",
    "        else:\n",
    "            pass"
   ]
  },
  {
   "cell_type": "code",
   "execution_count": 22,
   "metadata": {},
   "outputs": [
    {
     "name": "stdout",
     "output_type": "stream",
     "text": [
      "29\r"
     ]
    }
   ],
   "source": [
    "stream(data = query, file_name='my_tweets')"
   ]
  },
  {
   "cell_type": "code",
   "execution_count": 25,
   "metadata": {},
   "outputs": [],
   "source": [
    "import re\n",
    "def clean_tweet(tweet):\n",
    "    return ' '.join(re.sub('(@[A-Za-z0-9]+)|([^0-9A-Za-z \\t])|(\\w+:\\/\\/\\s+)',' ', tweet).split())"
   ]
  },
  {
   "cell_type": "code",
   "execution_count": 33,
   "metadata": {},
   "outputs": [],
   "source": [
    "from textblob import TextBlob"
   ]
  },
  {
   "cell_type": "code",
   "execution_count": 37,
   "metadata": {},
   "outputs": [],
   "source": [
    "def analyze_sentiment(tweet):\n",
    "    analysis = TextBlob(tweet)\n",
    "    if analysis.sentiment.polarity > 0:\n",
    "        return 'Positive'\n",
    "    elif analysis.sentiment.polarity == 0:\n",
    "        return 'Neutral'\n",
    "    else:\n",
    "        return 'Ngative'"
   ]
  },
  {
   "cell_type": "code",
   "execution_count": 29,
   "metadata": {},
   "outputs": [],
   "source": [
    "df['clean_tweet'] = df['Tweets'].apply(lambda x : clean_tweet(x))"
   ]
  },
  {
   "cell_type": "code",
   "execution_count": 31,
   "metadata": {},
   "outputs": [
    {
     "data": {
      "text/html": [
       "<div>\n",
       "<style scoped>\n",
       "    .dataframe tbody tr th:only-of-type {\n",
       "        vertical-align: middle;\n",
       "    }\n",
       "\n",
       "    .dataframe tbody tr th {\n",
       "        vertical-align: top;\n",
       "    }\n",
       "\n",
       "    .dataframe thead th {\n",
       "        text-align: right;\n",
       "    }\n",
       "</style>\n",
       "<table border=\"1\" class=\"dataframe\">\n",
       "  <thead>\n",
       "    <tr style=\"text-align: right;\">\n",
       "      <th></th>\n",
       "      <th>Tweets</th>\n",
       "      <th>User</th>\n",
       "      <th>User_statuses_count</th>\n",
       "      <th>user_followers</th>\n",
       "      <th>User_location</th>\n",
       "      <th>User_verified</th>\n",
       "      <th>fav_count</th>\n",
       "      <th>rt_count</th>\n",
       "      <th>tweet_date</th>\n",
       "      <th>clean_tweet</th>\n",
       "    </tr>\n",
       "  </thead>\n",
       "  <tbody>\n",
       "    <tr>\n",
       "      <th>0</th>\n",
       "      <td>Who Will Win 2020 BIHAR Assembly Election ?</td>\n",
       "      <td>MANISH KUMAR SHAH</td>\n",
       "      <td>73</td>\n",
       "      <td>701</td>\n",
       "      <td>Kolkata, India</td>\n",
       "      <td>False</td>\n",
       "      <td>0</td>\n",
       "      <td>0</td>\n",
       "      <td>2020-10-29 02:46:00</td>\n",
       "      <td>Who Will Win 2020 BIHAR Assembly Election</td>\n",
       "    </tr>\n",
       "    <tr>\n",
       "      <th>1</th>\n",
       "      <td>@iamsrk Who will win Bihar Election 2020 , Any...</td>\n",
       "      <td>Rizwan Aamir 🇮🇳</td>\n",
       "      <td>23425</td>\n",
       "      <td>919</td>\n",
       "      <td>Aligarh, Kishanganj, Noida!</td>\n",
       "      <td>False</td>\n",
       "      <td>0</td>\n",
       "      <td>0</td>\n",
       "      <td>2020-10-27 11:43:48</td>\n",
       "      <td>Who will win Bihar Election 2020 Any Idea Sir ...</td>\n",
       "    </tr>\n",
       "    <tr>\n",
       "      <th>2</th>\n",
       "      <td>RT @Intakhab_NITH: In Bihar Election 2020 \\nTe...</td>\n",
       "      <td>INTAKHAB ALAM</td>\n",
       "      <td>1484</td>\n",
       "      <td>133</td>\n",
       "      <td></td>\n",
       "      <td>False</td>\n",
       "      <td>0</td>\n",
       "      <td>1</td>\n",
       "      <td>2020-10-26 14:49:17</td>\n",
       "      <td>RT NITH In Bihar Election 2020 Tejashwi Vs Mod...</td>\n",
       "    </tr>\n",
       "    <tr>\n",
       "      <th>3</th>\n",
       "      <td>In Bihar Election 2020 \\nTejashwi Vs  Modi\\nWh...</td>\n",
       "      <td>INTAKHAB ALAM</td>\n",
       "      <td>1484</td>\n",
       "      <td>133</td>\n",
       "      <td></td>\n",
       "      <td>False</td>\n",
       "      <td>1</td>\n",
       "      <td>1</td>\n",
       "      <td>2020-10-26 10:02:56</td>\n",
       "      <td>In Bihar Election 2020 Tejashwi Vs ModiWho wil...</td>\n",
       "    </tr>\n",
       "    <tr>\n",
       "      <th>4</th>\n",
       "      <td>RT @NamoFan_UP: Who will win Bihar assembly el...</td>\n",
       "      <td>Raj Vats</td>\n",
       "      <td>503</td>\n",
       "      <td>9</td>\n",
       "      <td></td>\n",
       "      <td>False</td>\n",
       "      <td>0</td>\n",
       "      <td>22</td>\n",
       "      <td>2020-10-26 08:09:01</td>\n",
       "      <td>RT UP Who will win Bihar assembly election 202...</td>\n",
       "    </tr>\n",
       "  </tbody>\n",
       "</table>\n",
       "</div>"
      ],
      "text/plain": [
       "                                              Tweets               User  \\\n",
       "0        Who Will Win 2020 BIHAR Assembly Election ?  MANISH KUMAR SHAH   \n",
       "1  @iamsrk Who will win Bihar Election 2020 , Any...    Rizwan Aamir 🇮🇳   \n",
       "2  RT @Intakhab_NITH: In Bihar Election 2020 \\nTe...      INTAKHAB ALAM   \n",
       "3  In Bihar Election 2020 \\nTejashwi Vs  Modi\\nWh...      INTAKHAB ALAM   \n",
       "4  RT @NamoFan_UP: Who will win Bihar assembly el...           Raj Vats   \n",
       "\n",
       "  User_statuses_count user_followers                 User_location  \\\n",
       "0                  73            701                Kolkata, India   \n",
       "1               23425            919  Aligarh, Kishanganj, Noida!    \n",
       "2                1484            133                                 \n",
       "3                1484            133                                 \n",
       "4                 503              9                                 \n",
       "\n",
       "  User_verified fav_count rt_count           tweet_date  \\\n",
       "0         False         0        0  2020-10-29 02:46:00   \n",
       "1         False         0        0  2020-10-27 11:43:48   \n",
       "2         False         0        1  2020-10-26 14:49:17   \n",
       "3         False         1        1  2020-10-26 10:02:56   \n",
       "4         False         0       22  2020-10-26 08:09:01   \n",
       "\n",
       "                                         clean_tweet  \n",
       "0          Who Will Win 2020 BIHAR Assembly Election  \n",
       "1  Who will win Bihar Election 2020 Any Idea Sir ...  \n",
       "2  RT NITH In Bihar Election 2020 Tejashwi Vs Mod...  \n",
       "3  In Bihar Election 2020 Tejashwi Vs ModiWho wil...  \n",
       "4  RT UP Who will win Bihar assembly election 202...  "
      ]
     },
     "execution_count": 31,
     "metadata": {},
     "output_type": "execute_result"
    }
   ],
   "source": [
    "df.head()"
   ]
  },
  {
   "cell_type": "code",
   "execution_count": 38,
   "metadata": {},
   "outputs": [
    {
     "data": {
      "text/html": [
       "<div>\n",
       "<style scoped>\n",
       "    .dataframe tbody tr th:only-of-type {\n",
       "        vertical-align: middle;\n",
       "    }\n",
       "\n",
       "    .dataframe tbody tr th {\n",
       "        vertical-align: top;\n",
       "    }\n",
       "\n",
       "    .dataframe thead th {\n",
       "        text-align: right;\n",
       "    }\n",
       "</style>\n",
       "<table border=\"1\" class=\"dataframe\">\n",
       "  <thead>\n",
       "    <tr style=\"text-align: right;\">\n",
       "      <th></th>\n",
       "      <th>Tweets</th>\n",
       "      <th>User</th>\n",
       "      <th>User_statuses_count</th>\n",
       "      <th>user_followers</th>\n",
       "      <th>User_location</th>\n",
       "      <th>User_verified</th>\n",
       "      <th>fav_count</th>\n",
       "      <th>rt_count</th>\n",
       "      <th>tweet_date</th>\n",
       "      <th>clean_tweet</th>\n",
       "      <th>Sentiment</th>\n",
       "    </tr>\n",
       "  </thead>\n",
       "  <tbody>\n",
       "    <tr>\n",
       "      <th>0</th>\n",
       "      <td>Who Will Win 2020 BIHAR Assembly Election ?</td>\n",
       "      <td>MANISH KUMAR SHAH</td>\n",
       "      <td>73</td>\n",
       "      <td>701</td>\n",
       "      <td>Kolkata, India</td>\n",
       "      <td>False</td>\n",
       "      <td>0</td>\n",
       "      <td>0</td>\n",
       "      <td>2020-10-29 02:46:00</td>\n",
       "      <td>Who Will Win 2020 BIHAR Assembly Election</td>\n",
       "      <td>Positive</td>\n",
       "    </tr>\n",
       "    <tr>\n",
       "      <th>1</th>\n",
       "      <td>@iamsrk Who will win Bihar Election 2020 , Any...</td>\n",
       "      <td>Rizwan Aamir 🇮🇳</td>\n",
       "      <td>23425</td>\n",
       "      <td>919</td>\n",
       "      <td>Aligarh, Kishanganj, Noida!</td>\n",
       "      <td>False</td>\n",
       "      <td>0</td>\n",
       "      <td>0</td>\n",
       "      <td>2020-10-27 11:43:48</td>\n",
       "      <td>Who will win Bihar Election 2020 Any Idea Sir ...</td>\n",
       "      <td>Positive</td>\n",
       "    </tr>\n",
       "    <tr>\n",
       "      <th>2</th>\n",
       "      <td>RT @Intakhab_NITH: In Bihar Election 2020 \\nTe...</td>\n",
       "      <td>INTAKHAB ALAM</td>\n",
       "      <td>1484</td>\n",
       "      <td>133</td>\n",
       "      <td></td>\n",
       "      <td>False</td>\n",
       "      <td>0</td>\n",
       "      <td>1</td>\n",
       "      <td>2020-10-26 14:49:17</td>\n",
       "      <td>RT NITH In Bihar Election 2020 Tejashwi Vs Mod...</td>\n",
       "      <td>Positive</td>\n",
       "    </tr>\n",
       "    <tr>\n",
       "      <th>3</th>\n",
       "      <td>In Bihar Election 2020 \\nTejashwi Vs  Modi\\nWh...</td>\n",
       "      <td>INTAKHAB ALAM</td>\n",
       "      <td>1484</td>\n",
       "      <td>133</td>\n",
       "      <td></td>\n",
       "      <td>False</td>\n",
       "      <td>1</td>\n",
       "      <td>1</td>\n",
       "      <td>2020-10-26 10:02:56</td>\n",
       "      <td>In Bihar Election 2020 Tejashwi Vs ModiWho wil...</td>\n",
       "      <td>Positive</td>\n",
       "    </tr>\n",
       "    <tr>\n",
       "      <th>4</th>\n",
       "      <td>RT @NamoFan_UP: Who will win Bihar assembly el...</td>\n",
       "      <td>Raj Vats</td>\n",
       "      <td>503</td>\n",
       "      <td>9</td>\n",
       "      <td></td>\n",
       "      <td>False</td>\n",
       "      <td>0</td>\n",
       "      <td>22</td>\n",
       "      <td>2020-10-26 08:09:01</td>\n",
       "      <td>RT UP Who will win Bihar assembly election 202...</td>\n",
       "      <td>Positive</td>\n",
       "    </tr>\n",
       "  </tbody>\n",
       "</table>\n",
       "</div>"
      ],
      "text/plain": [
       "                                              Tweets               User  \\\n",
       "0        Who Will Win 2020 BIHAR Assembly Election ?  MANISH KUMAR SHAH   \n",
       "1  @iamsrk Who will win Bihar Election 2020 , Any...    Rizwan Aamir 🇮🇳   \n",
       "2  RT @Intakhab_NITH: In Bihar Election 2020 \\nTe...      INTAKHAB ALAM   \n",
       "3  In Bihar Election 2020 \\nTejashwi Vs  Modi\\nWh...      INTAKHAB ALAM   \n",
       "4  RT @NamoFan_UP: Who will win Bihar assembly el...           Raj Vats   \n",
       "\n",
       "  User_statuses_count user_followers                 User_location  \\\n",
       "0                  73            701                Kolkata, India   \n",
       "1               23425            919  Aligarh, Kishanganj, Noida!    \n",
       "2                1484            133                                 \n",
       "3                1484            133                                 \n",
       "4                 503              9                                 \n",
       "\n",
       "  User_verified fav_count rt_count           tweet_date  \\\n",
       "0         False         0        0  2020-10-29 02:46:00   \n",
       "1         False         0        0  2020-10-27 11:43:48   \n",
       "2         False         0        1  2020-10-26 14:49:17   \n",
       "3         False         1        1  2020-10-26 10:02:56   \n",
       "4         False         0       22  2020-10-26 08:09:01   \n",
       "\n",
       "                                         clean_tweet Sentiment  \n",
       "0          Who Will Win 2020 BIHAR Assembly Election  Positive  \n",
       "1  Who will win Bihar Election 2020 Any Idea Sir ...  Positive  \n",
       "2  RT NITH In Bihar Election 2020 Tejashwi Vs Mod...  Positive  \n",
       "3  In Bihar Election 2020 Tejashwi Vs ModiWho wil...  Positive  \n",
       "4  RT UP Who will win Bihar assembly election 202...  Positive  "
      ]
     },
     "execution_count": 38,
     "metadata": {},
     "output_type": "execute_result"
    }
   ],
   "source": [
    "df['Sentiment'] = df['clean_tweet'].apply(lambda x : analyze_sentiment(x))\n",
    "df.head()"
   ]
  },
  {
   "cell_type": "code",
   "execution_count": 39,
   "metadata": {},
   "outputs": [
    {
     "name": "stdout",
     "output_type": "stream",
     "text": [
      " Oroginal tweet:\n",
      " @iamsrk Who will win Bihar Election 2020 , Any Idea Sir? #AskSRK\n",
      "\n",
      " Clean tweet:\n",
      " Who will win Bihar Election 2020 Any Idea Sir AskSRK\n",
      "\n",
      " Sentiment of the tweet:\n",
      " Positive\n"
     ]
    }
   ],
   "source": [
    "n = 1\n",
    "print(\" Oroginal tweet:\\n\", df['Tweets'][n])\n",
    "print()\n",
    "print(\" Clean tweet:\\n\", df['clean_tweet'][n])\n",
    "print()\n",
    "print(\" Sentiment of the tweet:\\n\", df['Sentiment'][n])"
   ]
  },
  {
   "cell_type": "code",
   "execution_count": 40,
   "metadata": {},
   "outputs": [
    {
     "name": "stdout",
     "output_type": "stream",
     "text": [
      " Oroginal tweet:\n",
      " RT @NamoFan_UP: Who will win Bihar assembly election 2020 ?\n",
      "\n",
      "A. Narendra modi = pride of nation\n",
      "B. tejaswi yadav.  = कलंक on nation\n",
      "\n",
      "#बैकुं…\n",
      "\n",
      " Clean tweet:\n",
      " RT UP Who will win Bihar assembly election 2020 A Narendra modi pride of nationB tejaswi yadav on nation\n",
      "\n",
      " Sentiment of the tweet:\n",
      " Positive\n"
     ]
    }
   ],
   "source": [
    "n = 5\n",
    "print(\" Oroginal tweet:\\n\", df['Tweets'][n])\n",
    "print()\n",
    "print(\" Clean tweet:\\n\", df['clean_tweet'][n])\n",
    "print()\n",
    "print(\" Sentiment of the tweet:\\n\", df['Sentiment'][n])"
   ]
  },
  {
   "cell_type": "code",
   "execution_count": 46,
   "metadata": {},
   "outputs": [
    {
     "name": "stdout",
     "output_type": "stream",
     "text": [
      " Oroginal tweet:\n",
      " Who is going to win Bihar assembly election 2020?\n",
      "#BiharElections #BiharPolls #BiharElections2020\n",
      "\n",
      " Clean tweet:\n",
      " Who is going to win Bihar assembly election 2020BiharElections BiharPolls BiharElections2020\n",
      "\n",
      " Sentiment of the tweet:\n",
      " Positive\n"
     ]
    }
   ],
   "source": [
    "n = 25\n",
    "print(\" Oroginal tweet:\\n\", df['Tweets'][n])\n",
    "print()\n",
    "print(\" Clean tweet:\\n\", df['clean_tweet'][n])\n",
    "print()\n",
    "print(\" Sentiment of the tweet:\\n\", df['Sentiment'][n])"
   ]
  },
  {
   "cell_type": "code",
   "execution_count": 48,
   "metadata": {},
   "outputs": [
    {
     "name": "stdout",
     "output_type": "stream",
     "text": [
      "35\r"
     ]
    }
   ],
   "source": [
    "stream(data = \" MI going to win IPL2020\", file_name='mi_tweets')"
   ]
  },
  {
   "cell_type": "code",
   "execution_count": 49,
   "metadata": {},
   "outputs": [],
   "source": [
    "df['clean_tweet'] = df['Tweets'].apply(lambda x : clean_tweet(x))"
   ]
  },
  {
   "cell_type": "code",
   "execution_count": 50,
   "metadata": {},
   "outputs": [
    {
     "data": {
      "text/html": [
       "<div>\n",
       "<style scoped>\n",
       "    .dataframe tbody tr th:only-of-type {\n",
       "        vertical-align: middle;\n",
       "    }\n",
       "\n",
       "    .dataframe tbody tr th {\n",
       "        vertical-align: top;\n",
       "    }\n",
       "\n",
       "    .dataframe thead th {\n",
       "        text-align: right;\n",
       "    }\n",
       "</style>\n",
       "<table border=\"1\" class=\"dataframe\">\n",
       "  <thead>\n",
       "    <tr style=\"text-align: right;\">\n",
       "      <th></th>\n",
       "      <th>Tweets</th>\n",
       "      <th>User</th>\n",
       "      <th>User_statuses_count</th>\n",
       "      <th>user_followers</th>\n",
       "      <th>User_location</th>\n",
       "      <th>User_verified</th>\n",
       "      <th>fav_count</th>\n",
       "      <th>rt_count</th>\n",
       "      <th>tweet_date</th>\n",
       "      <th>clean_tweet</th>\n",
       "      <th>Sentiment</th>\n",
       "    </tr>\n",
       "  </thead>\n",
       "  <tbody>\n",
       "    <tr>\n",
       "      <th>0</th>\n",
       "      <td>Today’s prediction @DelhiCapitals are going to...</td>\n",
       "      <td>Praneeth Rao</td>\n",
       "      <td>1277</td>\n",
       "      <td>102</td>\n",
       "      <td>hyderabad</td>\n",
       "      <td>False</td>\n",
       "      <td>3</td>\n",
       "      <td>0</td>\n",
       "      <td>2020-10-31 03:03:54</td>\n",
       "      <td>Todays prediction are going to win against IPL...</td>\n",
       "      <td>Positive</td>\n",
       "    </tr>\n",
       "    <tr>\n",
       "      <th>1</th>\n",
       "      <td>So #RR win last night. The tournament just get...</td>\n",
       "      <td>Giri Subramanian (Off Work)</td>\n",
       "      <td>9552</td>\n",
       "      <td>312</td>\n",
       "      <td>Adelaide, South Australia</td>\n",
       "      <td>False</td>\n",
       "      <td>0</td>\n",
       "      <td>0</td>\n",
       "      <td>2020-10-30 22:16:11</td>\n",
       "      <td>So RR win last night The tournament just gets ...</td>\n",
       "      <td>Positive</td>\n",
       "    </tr>\n",
       "    <tr>\n",
       "      <th>2</th>\n",
       "      <td>RT @kamrulh63079868: Who is going to win the I...</td>\n",
       "      <td>Roman Orton WWE</td>\n",
       "      <td>1501</td>\n",
       "      <td>16</td>\n",
       "      <td></td>\n",
       "      <td>False</td>\n",
       "      <td>0</td>\n",
       "      <td>3</td>\n",
       "      <td>2020-10-29 06:15:17</td>\n",
       "      <td>RT Who is going to win the IPL 2020 Be Honest ...</td>\n",
       "      <td>Positive</td>\n",
       "    </tr>\n",
       "    <tr>\n",
       "      <th>3</th>\n",
       "      <td>RT @kamrulh63079868: Who is going to win the I...</td>\n",
       "      <td>Heroism Fan</td>\n",
       "      <td>6386</td>\n",
       "      <td>51</td>\n",
       "      <td></td>\n",
       "      <td>False</td>\n",
       "      <td>0</td>\n",
       "      <td>3</td>\n",
       "      <td>2020-10-29 06:14:48</td>\n",
       "      <td>RT Who is going to win the IPL 2020 Be Honest ...</td>\n",
       "      <td>Positive</td>\n",
       "    </tr>\n",
       "    <tr>\n",
       "      <th>4</th>\n",
       "      <td>RT @kamrulh63079868: Who is going to win the I...</td>\n",
       "      <td>JAYANTH KUMAR REDDY</td>\n",
       "      <td>14820</td>\n",
       "      <td>164</td>\n",
       "      <td></td>\n",
       "      <td>False</td>\n",
       "      <td>0</td>\n",
       "      <td>3</td>\n",
       "      <td>2020-10-29 06:14:27</td>\n",
       "      <td>RT Who is going to win the IPL 2020 Be Honest ...</td>\n",
       "      <td>Positive</td>\n",
       "    </tr>\n",
       "  </tbody>\n",
       "</table>\n",
       "</div>"
      ],
      "text/plain": [
       "                                              Tweets  \\\n",
       "0  Today’s prediction @DelhiCapitals are going to...   \n",
       "1  So #RR win last night. The tournament just get...   \n",
       "2  RT @kamrulh63079868: Who is going to win the I...   \n",
       "3  RT @kamrulh63079868: Who is going to win the I...   \n",
       "4  RT @kamrulh63079868: Who is going to win the I...   \n",
       "\n",
       "                          User User_statuses_count user_followers  \\\n",
       "0                 Praneeth Rao                1277            102   \n",
       "1  Giri Subramanian (Off Work)                9552            312   \n",
       "2              Roman Orton WWE                1501             16   \n",
       "3                  Heroism Fan                6386             51   \n",
       "4          JAYANTH KUMAR REDDY               14820            164   \n",
       "\n",
       "               User_location User_verified fav_count rt_count  \\\n",
       "0                 hyderabad          False         3        0   \n",
       "1  Adelaide, South Australia         False         0        0   \n",
       "2                                    False         0        3   \n",
       "3                                    False         0        3   \n",
       "4                                    False         0        3   \n",
       "\n",
       "            tweet_date                                        clean_tweet  \\\n",
       "0  2020-10-31 03:03:54  Todays prediction are going to win against IPL...   \n",
       "1  2020-10-30 22:16:11  So RR win last night The tournament just gets ...   \n",
       "2  2020-10-29 06:15:17  RT Who is going to win the IPL 2020 Be Honest ...   \n",
       "3  2020-10-29 06:14:48  RT Who is going to win the IPL 2020 Be Honest ...   \n",
       "4  2020-10-29 06:14:27  RT Who is going to win the IPL 2020 Be Honest ...   \n",
       "\n",
       "  Sentiment  \n",
       "0  Positive  \n",
       "1  Positive  \n",
       "2  Positive  \n",
       "3  Positive  \n",
       "4  Positive  "
      ]
     },
     "execution_count": 50,
     "metadata": {},
     "output_type": "execute_result"
    }
   ],
   "source": [
    "df['Sentiment'] = df['clean_tweet'].apply(lambda x : analyze_sentiment(x))\n",
    "df.head()"
   ]
  },
  {
   "cell_type": "code",
   "execution_count": 51,
   "metadata": {},
   "outputs": [
    {
     "name": "stdout",
     "output_type": "stream",
     "text": [
      " Oroginal tweet:\n",
      " @deeputalks @cricbuzz We better start talking practically   without talking mathematically Because practically MI a… https://t.co/vksDCk6aL9\n",
      "\n",
      " Clean tweet:\n",
      " We better start talking practically without talking mathematically Because practically MI a httpstcovksDCk6aL9\n",
      "\n",
      " Sentiment of the tweet:\n",
      " Positive\n"
     ]
    }
   ],
   "source": [
    "n = 5\n",
    "print(\" Oroginal tweet:\\n\", df['Tweets'][n])\n",
    "print()\n",
    "print(\" Clean tweet:\\n\", df['clean_tweet'][n])\n",
    "print()\n",
    "print(\" Sentiment of the tweet:\\n\", df['Sentiment'][n])"
   ]
  },
  {
   "cell_type": "code",
   "execution_count": 52,
   "metadata": {},
   "outputs": [
    {
     "name": "stdout",
     "output_type": "stream",
     "text": [
      " Oroginal tweet:\n",
      " Today’s prediction @ChennaiIPL are going to win against @mipaltan .@IPL @Dream11 #IPL2020 #csk #mi   #CSKvsMI… https://t.co/aTOncpZH0x\n",
      "\n",
      " Clean tweet:\n",
      " Todays prediction are going to win against IPL2020 csk mi CSKvsMI httpstcoaTOncpZH0x\n",
      "\n",
      " Sentiment of the tweet:\n",
      " Positive\n"
     ]
    }
   ],
   "source": [
    "n = 30\n",
    "print(\" Oroginal tweet:\\n\", df['Tweets'][n])\n",
    "print()\n",
    "print(\" Clean tweet:\\n\", df['clean_tweet'][n])\n",
    "print()\n",
    "print(\" Sentiment of the tweet:\\n\", df['Sentiment'][n])"
   ]
  },
  {
   "cell_type": "code",
   "execution_count": 56,
   "metadata": {},
   "outputs": [
    {
     "data": {
      "text/plain": [
       "31"
      ]
     },
     "execution_count": 56,
     "metadata": {},
     "output_type": "execute_result"
    }
   ],
   "source": [
    "df[df.Sentiment == 'Positive'].shape[0]"
   ]
  },
  {
   "cell_type": "code",
   "execution_count": 57,
   "metadata": {},
   "outputs": [
    {
     "data": {
      "text/plain": [
       "1"
      ]
     },
     "execution_count": 57,
     "metadata": {},
     "output_type": "execute_result"
    }
   ],
   "source": [
    "df[df.Sentiment == 'Neutral'].shape[0]"
   ]
  },
  {
   "cell_type": "code",
   "execution_count": 58,
   "metadata": {},
   "outputs": [
    {
     "data": {
      "text/plain": [
       "0"
      ]
     },
     "execution_count": 58,
     "metadata": {},
     "output_type": "execute_result"
    }
   ],
   "source": [
    "df[df.Sentiment == 'Negative'].shape[0]"
   ]
  },
  {
   "cell_type": "code",
   "execution_count": null,
   "metadata": {},
   "outputs": [],
   "source": []
  }
 ],
 "metadata": {
  "kernelspec": {
   "display_name": "Python 3",
   "language": "python",
   "name": "python3"
  },
  "language_info": {
   "codemirror_mode": {
    "name": "ipython",
    "version": 3
   },
   "file_extension": ".py",
   "mimetype": "text/x-python",
   "name": "python",
   "nbconvert_exporter": "python",
   "pygments_lexer": "ipython3",
   "version": "3.7.10"
  }
 },
 "nbformat": 4,
 "nbformat_minor": 4
}
